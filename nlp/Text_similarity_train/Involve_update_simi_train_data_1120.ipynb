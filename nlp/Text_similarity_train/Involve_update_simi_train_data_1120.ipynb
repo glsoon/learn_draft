{
 "cells": [
  {
   "cell_type": "code",
   "execution_count": 1,
   "metadata": {
    "collapsed": true
   },
   "outputs": [
    {
     "name": "stdout",
     "output_type": "stream",
     "text": [
      "\n",
      "===================================BUG REPORT===================================\n",
      "Welcome to bitsandbytes. For bug reports, please run\n",
      "\n",
      "python -m bitsandbytes\n",
      "\n",
      " and submit this information together with your error trace to: https://github.com/TimDettmers/bitsandbytes/issues\n",
      "================================================================================\n",
      "bin /home/stops/miniconda3/envs/LLM_env/lib/python3.8/site-packages/bitsandbytes/libbitsandbytes_cuda118.so\n",
      "CUDA SETUP: CUDA runtime path found: /usr/local/cuda/lib64/libcudart.so.11.0\n",
      "CUDA SETUP: Highest compute capability among GPUs detected: 8.0\n",
      "CUDA SETUP: Detected CUDA version 118\n",
      "CUDA SETUP: Loading binary /home/stops/miniconda3/envs/LLM_env/lib/python3.8/site-packages/bitsandbytes/libbitsandbytes_cuda118.so...\n"
     ]
    },
    {
     "name": "stderr",
     "output_type": "stream",
     "text": [
      "2023-11-22 16:35:36,344 - INFO : Starting\n"
     ]
    },
    {
     "data": {
      "text/plain": "'\\n1.针对症状和疾病，按广义症状进行相似度判断。优化训练集和相似模型。 -231120\\n腹痛>上腹痛>>大腿疼\\n\\n2.症状集合：\"output_data/Symptom_SET_keep_df_1110.xlsx\" 8k\\n\\n3.症状相似度训练集：Med_general_norm_category_1p7w_220929.xlsx\\n\\n4.\\n\\n5.\\n\\n\\n'"
     },
     "execution_count": 1,
     "metadata": {},
     "output_type": "execute_result"
    }
   ],
   "source": [
    "import os,time\n",
    "os.environ['CUDA_VISIBLE_DEVICES']='0'\n",
    "import copy\n",
    "import logging\n",
    "import numpy as np\n",
    "import pandas as pd\n",
    "from datetime import datetime,timedelta,date\n",
    "import time\n",
    "import torch\n",
    "from torch.utils.data import DataLoader\n",
    "from tqdm import tqdm\n",
    "from transformers import AutoModelForSeq2SeqLM, AutoTokenizer, AutoModel, get_linear_schedule_with_warmup, \\\n",
    "    default_data_collator, TrainingArguments, Trainer\n",
    "from sentence_transformers import SentencesDataset, LoggingHandler, SentenceTransformer\n",
    "from sklearn.metrics.pairwise import paired_cosine_distances, paired_euclidean_distances, paired_manhattan_distances\n",
    "from scipy.stats import pearsonr, spearmanr\n",
    "from transformers import AutoTokenizer\n",
    "from transformers import BertConfig, BertTokenizer,BertTokenizerFast\n",
    "from datasets import Dataset\n",
    "from typing import List,Union\n",
    "import tqdm\n",
    "import re\n",
    "import json\n",
    "import faiss\n",
    "os.chdir('/home/stops/Work_space/NLP_work/Med_assit_chatglm')\n",
    "\n",
    "from db_config_taiyi import DB ## load data from pgsql\n",
    "\n",
    "logger = logging.getLogger(__name__)\n",
    "logging.basicConfig(level=logging.INFO,format='%(asctime)s - %(levelname)s - %(message)s')\n",
    "logger.info('Starting')\n",
    "\n",
    "\"\"\"\n",
    "1.针对症状和疾病，按广义症状进行相似度判断。优化训练集和相似模型。 -231120\n",
    "腹痛>上腹痛>>大腿疼\n",
    "\n",
    "2.症状集合：\"output_data/Symptom_SET_keep_df_1110.xlsx\" 8k\n",
    "\n",
    "3.症状相似度训练集：Med_general_norm_category_1p7w_220929.xlsx\n",
    "       迭代数据集：Med_general_norm_category_231121.xlsx\n",
    "\n",
    "4.\n",
    "\n",
    "\n",
    "5.\n",
    "\n",
    "\n",
    "\"\"\""
   ]
  },
  {
   "cell_type": "code",
   "execution_count": 2,
   "outputs": [],
   "source": [
    "def show_df(df):\n",
    "    print(df.shape)\n",
    "    print(df.head(2))\n",
    "    print(df.isnull().sum())"
   ],
   "metadata": {
    "collapsed": false,
    "pycharm": {
     "name": "#%%\n"
    }
   }
  },
  {
   "cell_type": "code",
   "execution_count": 3,
   "outputs": [
    {
     "name": "stderr",
     "output_type": "stream",
     "text": [
      "2023-11-22 16:35:36,569 - INFO : load data file: output_data/Symptom_SET_keep_df_1110.xlsx\n"
     ]
    },
    {
     "name": "stdout",
     "output_type": "stream",
     "text": [
      "(7979, 1)\n",
      "  symptom\n",
      "0   小便后刺痛\n",
      "1   被仓鼠咬伤\n",
      "symptom    0\n",
      "dtype: int64\n"
     ]
    }
   ],
   "source": [
    "## 真实问诊初步去重的症状\n",
    "symptom_set_file=\"output_data/Symptom_SET_keep_df_1110.xlsx\"\n",
    "symptom_set_df=pd.read_excel(symptom_set_file)\n",
    "show_df(symptom_set_df)\n",
    "logger.info(f\"load data file: {symptom_set_file}\")"
   ],
   "metadata": {
    "collapsed": false,
    "pycharm": {
     "name": "#%%\n"
    }
   }
  },
  {
   "cell_type": "code",
   "execution_count": 4,
   "outputs": [
    {
     "name": "stderr",
     "output_type": "stream",
     "text": [
      "2023-11-22 16:35:37,290 - INFO : load data file: data/simi_data/Med_general_norm_category_1p7w_220929.xlsx\n"
     ]
    },
    {
     "name": "stdout",
     "output_type": "stream",
     "text": [
      "(17706, 4)\n",
      "  Category Stand_text Simi_text  label\n",
      "0   疾病-皮肤科     EB病毒感染    感染eb病毒      1\n",
      "1   疾病-皮肤科     EB病毒感染   感染过eb病毒      1\n",
      "Category      0\n",
      "Stand_text    0\n",
      "Simi_text     0\n",
      "label         0\n",
      "dtype: int64\n"
     ]
    }
   ],
   "source": [
    "## 训练集汇总出现的症状\n",
    "symptom_train_file=\"data/simi_data/Med_general_norm_category_1p7w_220929.xlsx\"\n",
    "symptom_train_df=pd.read_excel(symptom_train_file)\n",
    "\n",
    "show_df(symptom_train_df)\n",
    "logger.info(f\"load data file: {symptom_train_file}\")\n"
   ],
   "metadata": {
    "collapsed": false,
    "pycharm": {
     "name": "#%%\n"
    }
   }
  },
  {
   "cell_type": "code",
   "execution_count": 5,
   "outputs": [
    {
     "name": "stderr",
     "output_type": "stream",
     "text": [
      "2023-11-22 16:35:37,295 - INFO : train_symptom_set_list nums: 446\n",
      "2023-11-22 16:35:37,295 - INFO : examples: ['EB病毒感染', 'HPV病毒感染', '癌症', '白痰', '白细胞异常', '包茎', '包块', '包皮过长', '包皮系带过短', '鼻出血', '鼻窦炎', '鼻干', '鼻塞', '鼻息气热', '鼻息肉', '鼻炎', '鼻咽部疾病', '鼻痒', '鼻音重', '鼻中隔偏曲']\n"
     ]
    }
   ],
   "source": [
    "\"\"\"\n",
    "目标：优化训练集和相似模型-231122\n",
    "    突出广义症状：腹痛和下腹痛相同。不同于重症中细分症状。\n",
    "\n",
    "1.拿真实问诊症状去匹配自身剩余症状，如有问题，再去训练语料找到标准症状找到对应语料，审核正负样本数据集。\n",
    "\n",
    "\n",
    "\"\"\"\n",
    "\n",
    "train_symptom_set_list=symptom_train_df[\"Stand_text\"].unique().tolist()\n",
    "\n",
    "logger.info(f\"train_symptom_set_list nums: {len(train_symptom_set_list)}\")\n",
    "logger.info(f\"examples: {train_symptom_set_list[:20]}\")\n"
   ],
   "metadata": {
    "collapsed": false,
    "pycharm": {
     "name": "#%%\n"
    }
   }
  },
  {
   "cell_type": "code",
   "execution_count": 6,
   "outputs": [
    {
     "name": "stderr",
     "output_type": "stream",
     "text": [
      "2023-11-22 16:35:37,708 - INFO : load data file: data/simi_data/Symptom_general_norm_1p1w_220923.xlsx\n",
      "2023-11-22 16:35:37,709 - INFO : set nums: 278\n"
     ]
    },
    {
     "name": "stdout",
     "output_type": "stream",
     "text": [
      "(11332, 3)\n",
      "  Stand_text Simi_text  label\n",
      "1         畏寒      有点畏寒      1\n",
      "2         畏寒      畏寒怕冷      1\n",
      "Stand_text    0\n",
      "Simi_text     0\n",
      "label         0\n",
      "dtype: int64\n"
     ]
    }
   ],
   "source": [
    "## 通用症状\n",
    "symptom_general_file=\"data/simi_data/Symptom_general_norm_1p1w_220923.xlsx\"\n",
    "symptom_general_df=pd.read_excel(symptom_general_file,index_col=0)\n",
    "\n",
    "show_df(symptom_general_df)\n",
    "logger.info(f\"load data file: {symptom_general_file}\")\n",
    "logger.info(f\"set nums: {symptom_general_df['Stand_text'].unique().size}\")\n"
   ],
   "metadata": {
    "collapsed": false,
    "pycharm": {
     "name": "#%%\n"
    }
   }
  },
  {
   "cell_type": "code",
   "execution_count": 7,
   "outputs": [
    {
     "name": "stderr",
     "output_type": "stream",
     "text": [
      "2023-11-22 16:35:38,095 - INFO : load data file: data/simi_data/Disease_general_norm_6k_220929.xlsx\n",
      "2023-11-22 16:35:38,095 - INFO : set nums: 173\n"
     ]
    },
    {
     "name": "stdout",
     "output_type": "stream",
     "text": [
      "(6298, 3)\n",
      "  Stand_text  Simi_text  label\n",
      "1  营养性维生素D缺乏  有一点维生素d缺乏      1\n",
      "2  营养性维生素D缺乏    维生素d有缺乏      1\n",
      "Stand_text    0\n",
      "Simi_text     0\n",
      "label         0\n",
      "dtype: int64\n"
     ]
    }
   ],
   "source": [
    "## 通用疾病\n",
    "disease_general_file=\"data/simi_data/Disease_general_norm_6k_220929.xlsx\"\n",
    "disease_general_df=pd.read_excel(disease_general_file,index_col=0)\n",
    "\n",
    "show_df(disease_general_df)\n",
    "logger.info(f\"load data file: {disease_general_file}\")\n",
    "logger.info(f\"set nums: {disease_general_df['Stand_text'].unique().size}\")\n"
   ],
   "metadata": {
    "collapsed": false,
    "pycharm": {
     "name": "#%%\n"
    }
   }
  },
  {
   "cell_type": "code",
   "execution_count": 8,
   "outputs": [
    {
     "name": "stderr",
     "output_type": "stream",
     "text": [
      "2023-11-22 16:35:38,100 - INFO : Load pretrained SentenceTransformer: simi_model/Medical_simi-_General_-epochs_3-2023-11-22\n",
      "2023-11-22 16:35:38,915 - INFO : load simi model: simi_model/Medical_simi-_General_-epochs_3-2023-11-22\n"
     ]
    }
   ],
   "source": [
    "#############################\n",
    "## load simi model\n",
    "#############################\n",
    "device=torch.device('cuda' if torch.cuda.is_available() else 'cpu' )\n",
    "#simi_model_path='/home/stops/Work_space/NLP_models/Medical_general_simi_model'\n",
    "#simi_model_path='/home/stops/Work_space/NLP_work/Med_Doctor_diagnosis_query/Disease_10_Doctor_query_v2_1009/expl_simi_model/Medical_simi-inner_query--epochs_3-2022-10-14_18-05-29'\n",
    "#simi_model_path=\"/home/stops/Work_space/NLP_models/Erlangshen-Roberta-330M-Similarity\"\n",
    "#simi_model_path=\"/home/stops/Work_space/NLP_models/bge-large-zh-noinstruct\"\n",
    "#simi_model_path=\"/home/stops/Work_space/NLP_models/bge-base-zh-v1.5\"\n",
    "\n",
    "#simi_model_path=\"simi_model/Medical_simi-_all_-epochs_3-2023-11-13_18-45-25\"\n",
    "simi_model_path=\"simi_model/Medical_simi-_General_-epochs_3-2023-11-22\" ## update-version\n",
    "\n",
    "simi_model=SentenceTransformer(simi_model_path,device=device)\n",
    "simi_model.eval()\n",
    "\n",
    "logger.info(f'load simi model: {simi_model_path}')\n"
   ],
   "metadata": {
    "collapsed": false,
    "pycharm": {
     "name": "#%%\n"
    }
   }
  },
  {
   "cell_type": "code",
   "execution_count": 9,
   "outputs": [],
   "source": [
    "import faiss\n",
    "\n",
    "def load_faiss_search_engine(object_embed:torch.Tensor):\n",
    "    s_time = time.time()\n",
    "    d = object_embed.shape[1]\n",
    "    ## CPU mode\n",
    "    index = faiss.index_factory(d, 'Flat', faiss.METRIC_INNER_PRODUCT)  # build the index\n",
    "    faiss.normalize_L2(object_embed)\n",
    "    index.add(object_embed)\n",
    "    logger.info('Loading CPU faiss cost time : {:.4f} (seconds)'.format(time.time() - s_time))\n",
    "    return index"
   ],
   "metadata": {
    "collapsed": false,
    "pycharm": {
     "name": "#%%\n"
    }
   }
  },
  {
   "cell_type": "code",
   "execution_count": 10,
   "outputs": [],
   "source": [
    "def get_simi_embed(conversation_flatten_text_list):\n",
    "    run_all_nums=len(conversation_flatten_text_list)\n",
    "    logger.info(f'simi model process data: {run_all_nums}')\n",
    "    s_time=time.time()\n",
    "    corpus_matrix  = []\n",
    "    batch_size=1000\n",
    "    run_all_steps=len(list(range(0,len(conversation_flatten_text_list), batch_size)))\n",
    "    logger.info(f'batch_size   : {batch_size}')\n",
    "    logger.info(f'run_all_steps: {run_all_steps}')\n",
    "\n",
    "    for i in range(0,run_all_nums, batch_size):\n",
    "        if i%1000==0:\n",
    "            logger.info('run step {}, finished: {:.2%}'.format(i,i/run_all_nums))\n",
    "        corpus_matrix.append(simi_model.encode(conversation_flatten_text_list[i:i+batch_size],batch_size=batch_size,show_progress_bar=False))\n",
    "    corpus_embed =np.concatenate(corpus_matrix)\n",
    "    logger.info('build embed cost time: {:.2f}s, shape: {}'.format(time.time()-s_time,corpus_embed.shape))\n",
    "    return corpus_embed"
   ],
   "metadata": {
    "collapsed": false,
    "pycharm": {
     "name": "#%%\n"
    }
   }
  },
  {
   "cell_type": "code",
   "execution_count": 11,
   "outputs": [
    {
     "name": "stderr",
     "output_type": "stream",
     "text": [
      "2023-11-22 16:35:38,931 - INFO : simi model process data: 7655\n",
      "2023-11-22 16:35:38,931 - INFO : batch_size   : 1000\n",
      "2023-11-22 16:35:38,932 - INFO : run_all_steps: 8\n",
      "2023-11-22 16:35:38,932 - INFO : run step 0, finished: 0.00%\n",
      "2023-11-22 16:35:41,253 - INFO : run step 1000, finished: 13.06%\n",
      "2023-11-22 16:35:41,525 - INFO : run step 2000, finished: 26.13%\n",
      "2023-11-22 16:35:41,787 - INFO : run step 3000, finished: 39.19%\n",
      "2023-11-22 16:35:42,158 - INFO : run step 4000, finished: 52.25%\n",
      "2023-11-22 16:35:42,445 - INFO : run step 5000, finished: 65.32%\n",
      "2023-11-22 16:35:42,799 - INFO : run step 6000, finished: 78.38%\n",
      "2023-11-22 16:35:43,133 - INFO : run step 7000, finished: 91.44%\n",
      "2023-11-22 16:35:43,357 - INFO : build embed cost time: 4.43s, shape: (7655, 768)\n"
     ]
    }
   ],
   "source": [
    "####################\n",
    "## build-Embedding\n",
    "####################\n",
    "\n",
    "symptom_set_flatten_list=symptom_set_df[\"symptom\"].unique().tolist()\n",
    "symptom_set_embed=get_simi_embed(symptom_set_flatten_list)"
   ],
   "metadata": {
    "collapsed": false,
    "pycharm": {
     "name": "#%%\n"
    }
   }
  },
  {
   "cell_type": "code",
   "execution_count": 12,
   "outputs": [
    {
     "name": "stderr",
     "output_type": "stream",
     "text": [
      "2023-11-22 16:35:43,370 - INFO : Loading CPU faiss cost time : 0.0090 (seconds)\n"
     ]
    }
   ],
   "source": [
    "symptom_set_faiss_index=load_faiss_search_engine(symptom_set_embed)"
   ],
   "metadata": {
    "collapsed": false,
    "pycharm": {
     "name": "#%%\n"
    }
   }
  },
  {
   "cell_type": "code",
   "execution_count": 13,
   "outputs": [
    {
     "data": {
      "text/plain": "Batches:   0%|          | 0/1 [00:00<?, ?it/s]",
      "application/vnd.jupyter.widget-view+json": {
       "version_major": 2,
       "version_minor": 0,
       "model_id": "482ae24498624c518bc727d0b7f5497e"
      }
     },
     "metadata": {},
     "output_type": "display_data"
    },
    {
     "name": "stderr",
     "output_type": "stream",
     "text": [
      "2023-11-22 16:35:43,407 - INFO : test_text : 鼻痒\n",
      "2023-11-22 16:35:43,409 - INFO : test_Proba: [[1.         0.9945984  0.842765   0.7762667  0.76982427 0.762655\n",
      "  0.7606481  0.7550805  0.7302172  0.72369456 0.7199323  0.7162697\n",
      "  0.69906163 0.6905434  0.67803925 0.668731   0.6631844  0.6624191\n",
      "  0.66239005 0.66184473 0.65839934 0.6548296  0.6444884  0.6262642\n",
      "  0.6194328  0.6017078  0.60128105 0.5923245  0.58138335 0.58131814\n",
      "  0.58069015 0.57331574 0.5649778  0.5544405  0.55365705 0.5498495\n",
      "  0.5475721  0.5436986  0.52993226 0.5296795  0.52590597 0.5233761\n",
      "  0.5226804  0.5217592  0.52055854 0.5186656  0.5171307  0.5109539\n",
      "  0.51084286 0.51045203]]\n",
      "2023-11-22 16:35:43,410 - INFO : test_Id   : [[6611 1370 2116 6845 6494 7021 5456 4900 6122 2036 5502 4534 3415 4271\n",
      "  7648 1013 4188 3581 1976   55 7520 6093 4752 3071 4615 6088 2364 4867\n",
      "  7063 6297 7548 6710 3537 1509 4292  613 7020  488 7048 2600 1587 1123\n",
      "  7032 6550 2091 3698 6192 2204 1847 5952]]\n"
     ]
    }
   ],
   "source": [
    "##########################################\n",
    "##  Retrieve  Test\n",
    "##########################################\n",
    "## Step-1: 首先针对真实问诊中症状，匹配自身剩余其他症状，查看其最相似值\n",
    "\n",
    "top_k=50\n",
    "\n",
    "test_text=\"鼻痒\"\n",
    "simi_threshold=0.86\n",
    "test_embed=simi_model.encode([test_text])\n",
    "faiss.normalize_L2(test_embed)\n",
    "test_Proba, test_Id = symptom_set_faiss_index.search(test_embed, top_k)\n",
    "logger.info(f\"test_text : {test_text}\")\n",
    "logger.info(f\"test_Proba: {test_Proba}\")\n",
    "logger.info(f\"test_Id   : {test_Id}\")"
   ],
   "metadata": {
    "collapsed": false,
    "pycharm": {
     "name": "#%%\n"
    }
   }
  },
  {
   "cell_type": "code",
   "execution_count": 14,
   "outputs": [
    {
     "name": "stdout",
     "output_type": "stream",
     "text": [
      "Simi_Proba: 1.0000 , Simi_Text: 鼻痒\n",
      "Simi_Proba: 0.9946 , Simi_Text: 鼻子痒\n"
     ]
    }
   ],
   "source": [
    "for sub_proba_list,sub_idx_list in zip(test_Proba,test_Id):\n",
    "    for sub_proba, sub_text_idx in zip(sub_proba_list,sub_idx_list):\n",
    "        if sub_proba>=simi_threshold:\n",
    "            print(\"Simi_Proba: {:.4f} , Simi_Text: {}\".format(sub_proba,symptom_set_flatten_list[sub_text_idx]))\n"
   ],
   "metadata": {
    "collapsed": false,
    "pycharm": {
     "name": "#%%\n"
    }
   }
  },
  {
   "cell_type": "code",
   "execution_count": 15,
   "outputs": [
    {
     "name": "stderr",
     "output_type": "stream",
     "text": [
      "2023-11-22 16:35:43,420 - INFO : Initializing focus_text_list \n",
      "2023-11-22 16:35:43,486 - INFO : embed shape: (446, 768)\n"
     ]
    }
   ],
   "source": [
    "## Step-2: 针对上述异常值，检索训练集中数据，针对性正价正负样本。\n",
    "\n",
    "\n",
    "class FocusInfo():\n",
    "    def __init__(self,focus_text_list,simi_model=simi_model):\n",
    "        logger.info('Initializing focus_text_list ')\n",
    "        self.stand_text=list(set(focus_text_list))\n",
    "        self.stand_embed=simi_model.encode(self.stand_text,batch_size=300,show_progress_bar=False)\n",
    "        logger.info('embed shape: {}'.format(self.stand_embed.shape))\n",
    "        self.stand_nums=len(self.stand_text)\n",
    "        self.text2id=dict(zip(self.stand_text,list(range(self.stand_nums))))\n",
    "        self.id2text=dict(zip(self.text2id.values(),self.text2id.keys()))\n",
    "\n",
    "## 训练集标准症状集合\n",
    "standSymptomInfo=FocusInfo(train_symptom_set_list)\n"
   ],
   "metadata": {
    "collapsed": false,
    "pycharm": {
     "name": "#%%\n"
    }
   }
  },
  {
   "cell_type": "code",
   "execution_count": 16,
   "outputs": [
    {
     "name": "stdout",
     "output_type": "stream",
     "text": [
      "test_res: \n",
      "{1: [(1.0, 264)], 2: [(0.96, 88)]}\n",
      "symptom:  鼻痒\n",
      "    matched symptom:  鼻痒\n",
      "    matched probability:  1.0\n",
      "symptom:  发烧\n",
      "    matched symptom:  发热\n",
      "    matched probability:  0.96\n"
     ]
    }
   ],
   "source": [
    "from text_similarity_calculate import simi_batch_match_info_infer\n",
    "\n",
    "text_batch_list=[\"咳嗽\",\"鼻痒\",\"发烧\"]\n",
    "simi_threshold=0.86\n",
    "top_k=5\n",
    "test_res=simi_batch_match_info_infer(text_batch_list,standSymptomInfo,simi_model,thre=simi_threshold,top_k=top_k,batch_size=100)\n",
    "print(\"test_res: \")\n",
    "print(test_res)\n",
    "\n",
    "for sub_key in test_res:\n",
    "    sub_symptom=text_batch_list[sub_key]\n",
    "    sub_res_list=test_res[sub_key]\n",
    "    print(\"symptom: \",sub_symptom)\n",
    "    for sub_res_tuple in sub_res_list:\n",
    "        print(\"    matched symptom: \",standSymptomInfo.stand_text[sub_res_tuple[1]])\n",
    "        print(\"    matched probability: \",sub_res_tuple[0])\n"
   ],
   "metadata": {
    "collapsed": false,
    "pycharm": {
     "name": "#%%\n"
    }
   }
  },
  {
   "cell_type": "code",
   "execution_count": 17,
   "outputs": [
    {
     "data": {
      "text/plain": "'\\n被仓鼠咬伤，指甲发黑\\n\\n剔除宽泛症状：-231122\\n流血，\\n\\n'"
     },
     "execution_count": 17,
     "metadata": {},
     "output_type": "execute_result"
    }
   ],
   "source": [
    "\"\"\"\n",
    "被仓鼠咬伤，指甲发黑\n",
    "\n",
    "剔除宽泛症状：-231122\n",
    "流血，\n",
    "\n",
    "\"\"\"\n"
   ],
   "metadata": {
    "collapsed": false,
    "pycharm": {
     "name": "#%%\n"
    }
   }
  },
  {
   "cell_type": "code",
   "execution_count": 18,
   "outputs": [
    {
     "name": "stderr",
     "output_type": "stream",
     "text": [
      "2023-11-22 16:35:43,519 - INFO : scan_symptom_set_list : ['下肢无力', '困乏', '精神状态差', '双乳溢液', '呼吸困难']\n"
     ]
    },
    {
     "data": {
      "text/plain": "Batches:   0%|          | 0/1 [00:00<?, ?it/s]",
      "application/vnd.jupyter.widget-view+json": {
       "version_major": 2,
       "version_minor": 0,
       "model_id": "365782068cbe4f5382dac32ed139beda"
      }
     },
     "metadata": {},
     "output_type": "display_data"
    },
    {
     "name": "stderr",
     "output_type": "stream",
     "text": [
      "2023-11-22 16:35:43,546 - INFO : test_bums : 5\n"
     ]
    },
    {
     "name": "stdout",
     "output_type": "stream",
     "text": [
      "**************************************************\n",
      "current symptom: 0  下肢无力\n",
      "Simi_Proba: 1.0000 , Simi_Text: 下肢无力\n",
      "Simi_Proba: 0.9737 , Simi_Text: 四肢无力\n",
      "Simi_Proba: 0.9692 , Simi_Text: 下肢的放射性无力感\n",
      "Simi_Proba: 0.9370 , Simi_Text: 膝盖软弱无力\n",
      "Simi_Proba: 0.9134 , Simi_Text: 走路时腿没有力气\n",
      "Simi_Proba: 0.8988 , Simi_Text: 膀胱逼尿肌肌无力\n",
      "Simi_Proba: 0.8924 , Simi_Text: 尿无力\n",
      "Simi_Proba: 0.8809 , Simi_Text: 酸软无力\n",
      "Simi_Proba: 0.8779 , Simi_Text: 按压时乏力\n",
      "Simi_Proba: 0.8757 , Simi_Text: 手抖乏力\n",
      "Simi_Proba: 0.8746 , Simi_Text: 腰部无力\n",
      "Simi_Proba: 0.8737 , Simi_Text: 一侧胳膊上抬无力\n",
      "Simi_Proba: 0.8670 , Simi_Text: 全身无力感\n",
      "Simi_Proba: 0.8644 , Simi_Text: 乏力\n",
      "Simi_Proba: 0.8633 , Simi_Text: 浑身松软无力\n",
      "Simi_Proba: 0.8597 , Simi_Text: 双腿感觉没劲\n",
      "Simi_Proba: 0.8584 , Simi_Text: 握拳乏力\n",
      "Simi_Proba: 0.8554 , Simi_Text: 乏力纳差\n",
      "Simi_Proba: 0.8470 , Simi_Text: 麻胀无力\n",
      "Simi_Proba: 0.8435 , Simi_Text: 心脏无力\n",
      "Simi_Proba: 0.8297 , Simi_Text: 气短乏力\n",
      "Simi_Proba: 0.8166 , Simi_Text: 咽痛乏力\n",
      "Simi_Proba: 0.8162 , Simi_Text: 咳嗽无力\n",
      "Simi_Proba: 0.8133 , Simi_Text: 左手手指无力\n",
      "Simi_Proba: 0.8097 , Simi_Text: 上眼睑无力\n",
      "Simi_Proba: 0.8079 , Simi_Text: 困乏无力\n",
      "**************************************************\n",
      "current symptom: 1  困乏\n",
      "Simi_Proba: 1.0000 , Simi_Text: 困乏\n",
      "Simi_Proba: 0.9616 , Simi_Text: 哭闹后困乏\n",
      "Simi_Proba: 0.8869 , Simi_Text: 腰部困乏\n",
      "Simi_Proba: 0.8623 , Simi_Text: 困乏无力\n",
      "Simi_Proba: 0.8446 , Simi_Text: 疲乏感\n",
      "Simi_Proba: 0.8019 , Simi_Text: 神疲乏力\n",
      "**************************************************\n",
      "current symptom: 2  精神状态差\n",
      "Simi_Proba: 1.0000 , Simi_Text: 精神状态差\n",
      "Simi_Proba: 0.9345 , Simi_Text: 精神状态异常\n",
      "Simi_Proba: 0.9247 , Simi_Text: 精神不好\n",
      "Simi_Proba: 0.8102 , Simi_Text: 精神不稳定\n",
      "**************************************************\n",
      "current symptom: 3  双乳溢液\n",
      "Simi_Proba: 1.0000 , Simi_Text: 双乳溢液\n",
      "Simi_Proba: 0.9674 , Simi_Text: 左侧乳头溢液\n",
      "Simi_Proba: 0.9192 , Simi_Text: 乳房黄色溢液\n",
      "Simi_Proba: 0.8956 , Simi_Text: 乳腺液分泌\n",
      "Simi_Proba: 0.8936 , Simi_Text: 乳白色乳头溢液\n",
      "Simi_Proba: 0.8900 , Simi_Text: 乳头流出白色或黄色液体\n",
      "Simi_Proba: 0.8558 , Simi_Text: 左边乳房挤出奶水\n",
      "Simi_Proba: 0.8498 , Simi_Text: 乳汁不停地产生\n",
      "Simi_Proba: 0.8453 , Simi_Text: 乳房有奶水流出来\n",
      "Simi_Proba: 0.8405 , Simi_Text: 乳房分泌物\n",
      "Simi_Proba: 0.8402 , Simi_Text: 左侧乳头有水样分泌物\n",
      "Simi_Proba: 0.8363 , Simi_Text: 泌乳\n",
      "Simi_Proba: 0.8263 , Simi_Text: 左边还能挤出奶水\n",
      "Simi_Proba: 0.8166 , Simi_Text: 泌乳素值增高\n",
      "Simi_Proba: 0.8058 , Simi_Text: 乳头黄色分泌物\n",
      "Simi_Proba: 0.8029 , Simi_Text: 乳汁淤积\n",
      "**************************************************\n",
      "current symptom: 4  呼吸困难\n",
      "Simi_Proba: 1.0000 , Simi_Text: 呼吸困难\n",
      "Simi_Proba: 0.9947 , Simi_Text: 呼吸有时困难\n",
      "Simi_Proba: 0.9795 , Simi_Text: 喉部呼吸困难感\n",
      "Simi_Proba: 0.8710 , Simi_Text: 呼吸费力\n",
      "Simi_Proba: 0.8328 , Simi_Text: 无法深呼吸\n",
      "Simi_Proba: 0.8245 , Simi_Text: 吸气时特别吃力\n",
      "********************\n",
      "Next start index: 195\n",
      "********************\n"
     ]
    }
   ],
   "source": [
    "##########################################\n",
    "## Stage-1: Retrieve  Symptom-SET\n",
    "##########################################\n",
    "\n",
    "simi_threshold=0.80\n",
    "top_k=120\n",
    "\n",
    "scan_window_size=5\n",
    "start_idx=190\n",
    "\n",
    "scan_symptom_set_list=symptom_set_flatten_list[start_idx:start_idx+scan_window_size]\n",
    "logger.info(f\"scan_symptom_set_list : {scan_symptom_set_list}\")\n",
    "test_embed=simi_model.encode(scan_symptom_set_list)\n",
    "faiss.normalize_L2(test_embed)\n",
    "test_Proba, test_Id = symptom_set_faiss_index.search(test_embed, top_k)\n",
    "logger.info(f\"test_bums : {len(test_Proba)}\")\n",
    "sub_i=0\n",
    "for sub_proba_list,sub_idx_list in zip(test_Proba,test_Id):\n",
    "    print(\"*****\"*10)\n",
    "    print(f\"current symptom: {sub_i}  {scan_symptom_set_list[sub_i]}\")\n",
    "    for sub_proba, sub_text_idx in zip(sub_proba_list,sub_idx_list):\n",
    "        if sub_proba>=simi_threshold:\n",
    "            print(\"Simi_Proba: {:.4f} , Simi_Text: {}\".format(sub_proba,symptom_set_flatten_list[sub_text_idx]))\n",
    "    sub_i+=1\n",
    "    start_idx+=1\n",
    "\n",
    "print(\"*****\"*4)\n",
    "print(f\"Next start index: {start_idx}\")\n",
    "print(\"*****\"*4)\n"
   ],
   "metadata": {
    "collapsed": false,
    "pycharm": {
     "name": "#%%\n"
    }
   }
  },
  {
   "cell_type": "code",
   "execution_count": 19,
   "outputs": [
    {
     "name": "stdout",
     "output_type": "stream",
     "text": [
      "test_res: \n",
      "{}\n"
     ]
    }
   ],
   "source": [
    "##########################################\n",
    "## Stage-2: Retrieve  Train-Corpus\n",
    "##########################################\n",
    "\n",
    "text_batch_list=[\"嗓子不舒服\"]\n",
    "\n",
    "test_res=simi_batch_match_info_infer(text_batch_list,standSymptomInfo,simi_model,\n",
    "                                     thre=simi_threshold,top_k=top_k,batch_size=100)\n",
    "print(\"test_res: \")\n",
    "print(test_res)\n",
    "\n",
    "for sub_key in test_res:\n",
    "    sub_symptom=text_batch_list[sub_key]\n",
    "    sub_res_list=test_res[sub_key]\n",
    "    print(\"symptom: \",sub_symptom)\n",
    "    for sub_res_tuple in sub_res_list:\n",
    "        print(\"    matched symptom: \",standSymptomInfo.stand_text[sub_res_tuple[1]])\n",
    "        print(\"    matched probability: \",sub_res_tuple[0])\n"
   ],
   "metadata": {
    "collapsed": false,
    "pycharm": {
     "name": "#%%\n"
    }
   }
  },
  {
   "cell_type": "code",
   "execution_count": 19,
   "outputs": [],
   "source": [
    "\n",
    "\n"
   ],
   "metadata": {
    "collapsed": false,
    "pycharm": {
     "name": "#%%\n"
    }
   }
  },
  {
   "cell_type": "code",
   "execution_count": 20,
   "outputs": [
    {
     "name": "stdout",
     "output_type": "stream",
     "text": [
      "60\n",
      "['全身酸痛', '咽喉痛', '腹痛', '咯黄痰', '鼻痒']\n"
     ]
    }
   ],
   "source": [
    "##########################################\n",
    "## Stage-3: Retrieve  Template-Symptom-SET\n",
    "##########################################\n",
    "\n",
    "template_symptom_text=\"全身酸痛+咽喉痛+腹痛+咯黄痰+鼻痒+浑身酸疼+声音哑+嗓子哑+头痛+发烧+肚子疼+头疼+眼睛酸胀+干咳+鼻子痒+呼吸困难+睡不着+浑身疼痛+鼻塞+睡觉不好+肺结节+拉肚子+咳黄痰+嗓子有痰+易醒+黄痰+咽痛+甲流+咳嗽有痰+咽喉有异物感+多梦+嗓子有异物+发热+大腿酸痛+咯痰+感冒+打喷嚏+咳痰+流鼻涕+咽喉疼+嗓子疼+肚子痛+发冷+失眠+浑身发冷+浑身肌肉酸疼+呕吐+嗓子痒+咽干+咽喉有痰+头晕+流清鼻涕+嗓子痛+嗓子不舒服+喉咙痒+咳嗽+嗓子疼痛+流清涕+浑身酸痛+睡眠不好\"\n",
    "template_symptom_set_list=template_symptom_text.split(\"+\")\n",
    "print(len(template_symptom_set_list))\n",
    "print(template_symptom_set_list[:5])"
   ],
   "metadata": {
    "collapsed": false,
    "pycharm": {
     "name": "#%%\n"
    }
   }
  },
  {
   "cell_type": "code",
   "execution_count": 21,
   "outputs": [
    {
     "name": "stderr",
     "output_type": "stream",
     "text": [
      "2023-11-22 16:35:43,582 - INFO : scan_symptom_set_list : ['咳嗽', '嗓子疼痛', '流清涕', '浑身酸痛', '睡眠不好']\n"
     ]
    },
    {
     "data": {
      "text/plain": "Batches:   0%|          | 0/1 [00:00<?, ?it/s]",
      "application/vnd.jupyter.widget-view+json": {
       "version_major": 2,
       "version_minor": 0,
       "model_id": "26c397af695a4993a3282bb218efbf48"
      }
     },
     "metadata": {},
     "output_type": "display_data"
    },
    {
     "name": "stderr",
     "output_type": "stream",
     "text": [
      "2023-11-22 16:35:43,612 - INFO : test_bums : 5\n"
     ]
    },
    {
     "name": "stdout",
     "output_type": "stream",
     "text": [
      "**************************************************\n",
      "current symptom: 0  咳嗽\n",
      "Simi_Proba: 1.0000 , Simi_Text: 咳嗽\n",
      "Simi_Proba: 0.9897 , Simi_Text: 咳嗽严重\n",
      "Simi_Proba: 0.9889 , Simi_Text: 反复咳嗽\n",
      "Simi_Proba: 0.9877 , Simi_Text: 偶尔咳嗽\n",
      "Simi_Proba: 0.9872 , Simi_Text: 咳嗽加重\n",
      "Simi_Proba: 0.9855 , Simi_Text: 热咳嗽\n",
      "Simi_Proba: 0.9838 , Simi_Text: 刺激性咳嗽\n",
      "Simi_Proba: 0.9829 , Simi_Text: 咳嗽频率高\n",
      "Simi_Proba: 0.9818 , Simi_Text: 咳嗽时间长\n",
      "Simi_Proba: 0.9759 , Simi_Text: 咳嗽不止\n",
      "Simi_Proba: 0.9722 , Simi_Text: 咳嗽持续时间较长\n",
      "Simi_Proba: 0.9711 , Simi_Text: 天气变化时咳嗽严重\n",
      "Simi_Proba: 0.9694 , Simi_Text: 咳嗽难受\n",
      "Simi_Proba: 0.9690 , Simi_Text: 说话多时会咳嗽\n",
      "Simi_Proba: 0.9631 , Simi_Text: 遇冷风时咳嗽加重\n",
      "Simi_Proba: 0.9447 , Simi_Text: 咳嗽时有刺激感\n",
      "Simi_Proba: 0.9437 , Simi_Text: 半夜剧咳\n",
      "Simi_Proba: 0.9427 , Simi_Text: 呛到一点菜汁也会咳嗽\n",
      "Simi_Proba: 0.9346 , Simi_Text: 清咳\n",
      "Simi_Proba: 0.9310 , Simi_Text: 咳嗽频率每隔一两个小时\n",
      "Simi_Proba: 0.9218 , Simi_Text: 咳嗦\n",
      "Simi_Proba: 0.9194 , Simi_Text: 咳嗽三声\n",
      "Simi_Proba: 0.9178 , Simi_Text: 咳得很剧烈\n",
      "Simi_Proba: 0.9149 , Simi_Text: 激动时咳嗽\n",
      "Simi_Proba: 0.9118 , Simi_Text: 喉咙有点想咳\n",
      "Simi_Proba: 0.9089 , Simi_Text: 易咳出\n",
      "Simi_Proba: 0.9070 , Simi_Text: 咳嗽声音响亮\n",
      "Simi_Proba: 0.8931 , Simi_Text: 嗓子痒总想咳嗽\n",
      "Simi_Proba: 0.8793 , Simi_Text: 着凉咳嗽\n",
      "Simi_Proba: 0.8768 , Simi_Text: 咳嗽频繁影响睡眠\n",
      "Simi_Proba: 0.8686 , Simi_Text: 咳嗽有空空声\n",
      "Simi_Proba: 0.8649 , Simi_Text: 湿湿的咳嗽\n",
      "Simi_Proba: 0.8644 , Simi_Text: 深呼吸或咳嗽时更加明显\n",
      "Simi_Proba: 0.8622 , Simi_Text: 运动剧烈玩耍或者哭泣后咳嗽明显\n",
      "Simi_Proba: 0.8618 , Simi_Text: 咳嗽时有时无\n",
      "Simi_Proba: 0.8493 , Simi_Text: 咳嗽咳痰\n",
      "Simi_Proba: 0.8264 , Simi_Text: 咳痰\n",
      "Simi_Proba: 0.8263 , Simi_Text: 痰咳\n",
      "Simi_Proba: 0.8243 , Simi_Text: 咳出黏液\n",
      "Simi_Proba: 0.8212 , Simi_Text: 咳嗽难以止住\n",
      "Simi_Proba: 0.8174 , Simi_Text: 被水呛咳\n",
      "Simi_Proba: 0.8107 , Simi_Text: 咳嗽声音低沉\n",
      "Simi_Proba: 0.8020 , Simi_Text: 咯痰\n",
      "**************************************************\n",
      "current symptom: 1  嗓子疼痛\n",
      "Simi_Proba: 0.9804 , Simi_Text: 嗓子疼痛感觉被刺激\n",
      "Simi_Proba: 0.9662 , Simi_Text: 喉咙疼痛\n",
      "Simi_Proba: 0.9639 , Simi_Text: 咽痛\n",
      "Simi_Proba: 0.9612 , Simi_Text: 喉咙痛\n",
      "Simi_Proba: 0.9597 , Simi_Text: 咽喉疼痛\n",
      "Simi_Proba: 0.9437 , Simi_Text: 喉咙感觉疼痛和灼热\n",
      "Simi_Proba: 0.9317 , Simi_Text: 咽痒痛\n",
      "Simi_Proba: 0.9265 , Simi_Text: 量少咽痛\n",
      "Simi_Proba: 0.8889 , Simi_Text: 吞咽食物或口水时会感到刺痛\n",
      "Simi_Proba: 0.8327 , Simi_Text: 咽吐沫疼痛\n",
      "Simi_Proba: 0.8233 , Simi_Text: 吞咽时伤口疼痛不适\n",
      "Simi_Proba: 0.8138 , Simi_Text: 喉咙痛苦\n",
      "**************************************************\n",
      "current symptom: 2  流清涕\n",
      "Simi_Proba: 0.9914 , Simi_Text: 流涕\n",
      "Simi_Proba: 0.9883 , Simi_Text: 流鼻涕\n",
      "Simi_Proba: 0.9858 , Simi_Text: 清水样鼻涕\n",
      "Simi_Proba: 0.9831 , Simi_Text: 水样鼻涕\n",
      "Simi_Proba: 0.9791 , Simi_Text: 流情书涕\n",
      "Simi_Proba: 0.9762 , Simi_Text: 清白色的鼻涕\n",
      "Simi_Proba: 0.9699 , Simi_Text: 鼻涕清\n",
      "Simi_Proba: 0.9658 , Simi_Text: 鼻涕倒流\n",
      "Simi_Proba: 0.9642 , Simi_Text: 哭闹时有少许鼻涕\n",
      "Simi_Proba: 0.9563 , Simi_Text: 鼻涕透明\n",
      "Simi_Proba: 0.9549 , Simi_Text: 鼻涕微带黄色\n",
      "Simi_Proba: 0.9490 , Simi_Text: 鼻涕稀薄\n",
      "Simi_Proba: 0.9455 , Simi_Text: 青鼻涕\n",
      "Simi_Proba: 0.9422 , Simi_Text: 鼻涕浑浊\n",
      "Simi_Proba: 0.9360 , Simi_Text: 流脓涕\n",
      "Simi_Proba: 0.9213 , Simi_Text: 吸鼻涕频繁\n",
      "Simi_Proba: 0.8822 , Simi_Text: 擤出来的鼻涕是白色的\n",
      "Simi_Proba: 0.8668 , Simi_Text: 流鼻涕带点脓\n",
      "Simi_Proba: 0.8481 , Simi_Text: 鼻后滴流感\n",
      "Simi_Proba: 0.8395 , Simi_Text: 打喷涕\n",
      "Simi_Proba: 0.8255 , Simi_Text: 鼻塞流涕\n",
      "**************************************************\n",
      "current symptom: 3  浑身酸痛\n",
      "Simi_Proba: 0.9936 , Simi_Text: 全身酸痛\n",
      "Simi_Proba: 0.9113 , Simi_Text: 身体骨酸的感觉\n",
      "Simi_Proba: 0.8758 , Simi_Text: 身体酸困\n",
      "Simi_Proba: 0.8312 , Simi_Text: 容易感到酸痛和不适\n",
      "Simi_Proba: 0.8214 , Simi_Text: 腿肚子感觉发酸\n",
      "Simi_Proba: 0.8125 , Simi_Text: 酸味\n",
      "Simi_Proba: 0.8103 , Simi_Text: 发酸\n",
      "Simi_Proba: 0.8100 , Simi_Text: 鼻子酸\n",
      "Simi_Proba: 0.8090 , Simi_Text: 关节发酸\n",
      "Simi_Proba: 0.8012 , Simi_Text: 经期前后腰酸\n",
      "Simi_Proba: 0.8000 , Simi_Text: 酸味上涌\n",
      "**************************************************\n",
      "current symptom: 4  睡眠不好\n",
      "Simi_Proba: 1.0000 , Simi_Text: 睡眠不好\n",
      "Simi_Proba: 0.9538 , Simi_Text: 睡眠质量不好\n",
      "Simi_Proba: 0.9320 , Simi_Text: 睡不好\n",
      "Simi_Proba: 0.8520 , Simi_Text: 浅睡眠和深度睡眠差\n",
      "Simi_Proba: 0.8292 , Simi_Text: 睡眠异常\n",
      "Simi_Proba: 0.8214 , Simi_Text: 睡眠不稳定\n",
      "********************\n",
      "Next start index: 60\n",
      "********************\n"
     ]
    }
   ],
   "source": [
    "simi_threshold=0.80\n",
    "top_k=120\n",
    "\n",
    "scan_window_size=5\n",
    "start_idx=55\n",
    "\n",
    "scan_symptom_set_list=template_symptom_set_list[start_idx:start_idx+scan_window_size]\n",
    "logger.info(f\"scan_symptom_set_list : {scan_symptom_set_list}\")\n",
    "test_embed=simi_model.encode(scan_symptom_set_list)\n",
    "faiss.normalize_L2(test_embed)\n",
    "test_Proba, test_Id = symptom_set_faiss_index.search(test_embed, top_k)\n",
    "logger.info(f\"test_bums : {len(test_Proba)}\")\n",
    "sub_i=0\n",
    "for sub_proba_list,sub_idx_list in zip(test_Proba,test_Id):\n",
    "    print(\"*****\"*10)\n",
    "    print(f\"current symptom: {sub_i}  {scan_symptom_set_list[sub_i]}\")\n",
    "    for sub_proba, sub_text_idx in zip(sub_proba_list,sub_idx_list):\n",
    "        if sub_proba>=simi_threshold:\n",
    "            print(\"Simi_Proba: {:.4f} , Simi_Text: {}\".format(sub_proba,symptom_set_flatten_list[sub_text_idx]))\n",
    "    sub_i+=1\n",
    "    start_idx+=1\n",
    "\n",
    "print(\"*****\"*4)\n",
    "print(f\"Next start index: {start_idx}\")\n",
    "print(\"*****\"*4)\n",
    "\n"
   ],
   "metadata": {
    "collapsed": false,
    "pycharm": {
     "name": "#%%\n"
    }
   }
  },
  {
   "cell_type": "code",
   "execution_count": 21,
   "outputs": [],
   "source": [
    "\n",
    "\n",
    "\n",
    "\n",
    "\n",
    "\n"
   ],
   "metadata": {
    "collapsed": false,
    "pycharm": {
     "name": "#%%\n"
    }
   }
  },
  {
   "cell_type": "code",
   "execution_count": 21,
   "outputs": [],
   "source": [
    "\n",
    "\n",
    "\n"
   ],
   "metadata": {
    "collapsed": false,
    "pycharm": {
     "name": "#%%\n"
    }
   }
  }
 ],
 "metadata": {
  "kernelspec": {
   "name": "llm_env",
   "language": "python",
   "display_name": "LLM_env"
  },
  "language_info": {
   "codemirror_mode": {
    "name": "ipython",
    "version": 2
   },
   "file_extension": ".py",
   "mimetype": "text/x-python",
   "name": "python",
   "nbconvert_exporter": "python",
   "pygments_lexer": "ipython2",
   "version": "2.7.6"
  }
 },
 "nbformat": 4,
 "nbformat_minor": 0
}
