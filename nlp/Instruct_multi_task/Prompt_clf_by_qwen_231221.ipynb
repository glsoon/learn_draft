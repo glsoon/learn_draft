{
 "cells": [
  {
   "cell_type": "code",
   "execution_count": 1,
   "metadata": {
    "collapsed": true,
    "ExecuteTime": {
     "end_time": "2024-01-03T07:00:07.077756Z",
     "start_time": "2024-01-03T07:00:04.307288Z"
    }
   },
   "outputs": [
    {
     "name": "stdout",
     "output_type": "stream",
     "text": [
      "\n",
      "===================================BUG REPORT===================================\n",
      "Welcome to bitsandbytes. For bug reports, please run\n",
      "\n",
      "python -m bitsandbytes\n",
      "\n",
      " and submit this information together with your error trace to: https://github.com/TimDettmers/bitsandbytes/issues\n",
      "================================================================================\n",
      "bin /home/stops/miniconda3/envs/LLM_env/lib/python3.8/site-packages/bitsandbytes/libbitsandbytes_cuda118.so\n",
      "CUDA SETUP: CUDA runtime path found: /usr/local/cuda/lib64/libcudart.so.11.0\n",
      "CUDA SETUP: Highest compute capability among GPUs detected: 8.0\n",
      "CUDA SETUP: Detected CUDA version 118\n",
      "CUDA SETUP: Loading binary /home/stops/miniconda3/envs/LLM_env/lib/python3.8/site-packages/bitsandbytes/libbitsandbytes_cuda118.so...\n"
     ]
    },
    {
     "name": "stderr",
     "output_type": "stream",
     "text": [
      "2024-01-03 15:00:07,098 - INFO : Starting\n"
     ]
    }
   ],
   "source": [
    "import os,time\n",
    "os.environ['CUDA_VISIBLE_DEVICES']='0'\n",
    "import copy\n",
    "import logging\n",
    "import numpy as np\n",
    "import pandas as pd\n",
    "from datetime import datetime,timedelta,date\n",
    "import time\n",
    "import torch\n",
    "from torch.utils.data import DataLoader\n",
    "from tqdm import tqdm\n",
    "from transformers import AutoModelForSeq2SeqLM, AutoTokenizer, AutoModel, get_linear_schedule_with_warmup, \\\n",
    "    default_data_collator, TrainingArguments, Trainer\n",
    "from sentence_transformers import SentencesDataset, LoggingHandler, SentenceTransformer\n",
    "from sklearn.metrics.pairwise import paired_cosine_distances, paired_euclidean_distances, paired_manhattan_distances\n",
    "from scipy.stats import pearsonr, spearmanr\n",
    "from transformers import AutoTokenizer\n",
    "from transformers import BertConfig, BertTokenizer,BertTokenizerFast\n",
    "from datasets import Dataset\n",
    "from typing import List,Union\n",
    "import tqdm\n",
    "import re\n",
    "import json\n",
    "\n",
    "os.chdir('/home/stops/Work_space/NLP_work/Med_assit_chatglm')\n",
    "\n",
    "from db_config_taiyi import DB ## load data from pgsql\n",
    "\n",
    "logger = logging.getLogger(__name__)\n",
    "logging.basicConfig(level=logging.INFO,format='%(asctime)s - %(levelname)s - %(message)s')\n",
    "logger.info('Starting')\n"
   ]
  },
  {
   "cell_type": "code",
   "execution_count": 2,
   "outputs": [
    {
     "name": "stderr",
     "output_type": "stream",
     "text": [
      "2024-01-02 17:23:08,350 - INFO : belle_instruct_data nums: 50\n",
      "2024-01-02 17:23:08,351 - INFO : examples: [{'instruction': '对以下代码进行调试。\\ndef add(a,b):\\n  return a + b\\n  print(add(2,3))', 'input': '', 'output': '这段代码的问题是在函数内部， `print` 语句出现在 `return` 语句之后，也就是说函数在 `return` 语句处结束，因此 `print` 语句永远不会被执行。\\n要解决这个问题，只需在 `return` 语句之前移到 `print` 语句。修改后的代码如下所示：\\n```\\ndef add(a, b):\\n    print(a + b)\\n    return a + b\\nadd(2, 3)\\n```\\n这样就可以在调用 `add` 函数时打印出结果，并在函数内部返回 `a + b` 值，使其在需要时可以接收和使用。同时，注意在调用 `add` 函数时，不需要再使用 `print` 方法了。'}, {'instruction': '为一个新的智能手机应用程序起个优秀的名称并写一句简短的介绍。\\n', 'input': '', 'output': '为一个新的智能手机应用程序起一个优秀的名称可以考虑以下几点：\\n1. 名称应该简单易记，不宜太长；\\n2. 名称应该与应用程序的主要功能或特点相关；\\n3. 名称应该引起人们的兴趣和好奇心。\\n举个例子，如果我们的应用程序是一款健康管理应用程序，那么可以考虑以下几个名称：\\n1. HealthBoss\\n2. FitMeUp\\n3. HealthMate\\n4. BodyBest\\n5. HealthLab\\n其中，HealthBoss强调应用程序可帮助用户成为健康的老板，FitMeUp强调应用程序可帮助用户达到健康生活的目标，HealthMate强调应用程序是用户健康的伙伴，BodyBest强调应用程序可通过健康管理帮助用户获得最佳身体状态，HealthLab强调应用程序可帮助用户进行健康诊断和实验。\\n一句简短的介绍可包含以下几个要素：\\n1. 应用程序的名称；\\n2. 应用程序的主要功能或特点；\\n3. 应用程序的受众或目标用户。\\n例如，以上面的例子为基础，可以写出以下几个简短的介绍：\\n1. HealthBoss – 健康管理，你的健康老板。\\n2. FitMeUp – 达成健康目标，轻松自在，适合每个人。\\n3. HealthMate – 与您在一起的健康伙伴。\\n4. BodyBest – 拥有最好的身体，成为最好的自己。\\n5. HealthLab – 健康管理和诊断，为您量身定制。'}]\n"
     ]
    }
   ],
   "source": [
    "##################################\n",
    "## Instruct data\n",
    "##################################\n",
    "\n",
    "data_file='/home/stops/Work_space/NLP_models/train_2M_CN/train_2M_CN.json'\n",
    "\n",
    "belle_instruct_data=[]\n",
    "with open(data_file,'r') as f :\n",
    "    for sub_data in f.readlines()[:50]:\n",
    "        sub_data_dict=json.loads(sub_data)\n",
    "        belle_instruct_data.append(sub_data_dict)\n",
    "logger.info(f'belle_instruct_data nums: {len(belle_instruct_data)}')\n",
    "logger.info(f'examples: {belle_instruct_data[:2]}')"
   ],
   "metadata": {
    "collapsed": false,
    "pycharm": {
     "name": "#%%\n"
    },
    "ExecuteTime": {
     "end_time": "2024-01-02T09:23:08.279701Z",
     "start_time": "2024-01-02T09:23:03.939807Z"
    }
   }
  },
  {
   "cell_type": "code",
   "execution_count": 3,
   "outputs": [
    {
     "name": "stdout",
     "output_type": "stream",
     "text": [
      "(50, 3)\n",
      "                                         instruction input  \\\n",
      "0  对以下代码进行调试。\\ndef add(a,b):\\n  return a + b\\n  p...         \n",
      "1                     为一个新的智能手机应用程序起个优秀的名称并写一句简短的介绍。         \n",
      "2  在给定的代码示例中，修复一个特定的错误。\\n以下是一个Python代码示例：\\ndef su...         \n",
      "3  根据文本生成一段简短的摘要。\\n文本：据报道，乔治·华盛顿于1732年2月22日出生在维珍尼...         \n",
      "4                                  回答下面这个问题：什么是人工智能？         \n",
      "\n",
      "                                              output  \n",
      "0  这段代码的问题是在函数内部， `print` 语句出现在 `return` 语句之后，也就是...  \n",
      "1  为一个新的智能手机应用程序起一个优秀的名称可以考虑以下几点：\\n1. 名称应该简单易记，不宜...  \n",
      "2  该Python代码中的错误是调用sum()函数时传递了3个参数，而该函数只接受2个参数。因此...  \n",
      "3                     乔治·华盛顿出生在1732年2月22日，位于维吉尼亚殖民地。  \n",
      "4  人工智能（Artificial Intelligence，简称 AI）是一种旨在模拟、复制、...  \n",
      "instruction    0\n",
      "input          0\n",
      "output         0\n",
      "dtype: int64\n"
     ]
    }
   ],
   "source": [
    "belle_instruct_df=pd.DataFrame.from_dict(belle_instruct_data)\n",
    "belle_instruct_df=belle_instruct_df.applymap(lambda x:x.strip())\n",
    "print(belle_instruct_df.shape)\n",
    "print(belle_instruct_df.head())\n",
    "print(belle_instruct_df.isnull().sum())"
   ],
   "metadata": {
    "collapsed": false,
    "pycharm": {
     "name": "#%%\n"
    },
    "ExecuteTime": {
     "end_time": "2024-01-02T09:23:08.280964Z",
     "start_time": "2024-01-02T09:23:08.274564Z"
    }
   }
  },
  {
   "cell_type": "code",
   "execution_count": 4,
   "outputs": [
    {
     "name": "stdout",
     "output_type": "stream",
     "text": [
      "count      50.000000\n",
      "mean       47.440000\n",
      "std        24.964595\n",
      "min        11.000000\n",
      "1%         13.450000\n",
      "10%        22.800000\n",
      "20%        28.400000\n",
      "25%        30.250000\n",
      "50%        43.000000\n",
      "75%        52.000000\n",
      "80%        61.000000\n",
      "90%        80.900000\n",
      "99.99%    131.853000\n",
      "max       132.000000\n",
      "Name: instruct_len, dtype: float64\n"
     ]
    }
   ],
   "source": [
    "belle_instruct_df.loc[:,'instruct_len']=belle_instruct_df.apply(lambda x:len(x['instruction']),axis=1)\n",
    "print(belle_instruct_df['instruct_len'].describe(percentiles=[0.01,0.1,0.2,0.25,0.5,0.75,0.8,0.9,0.9999]))"
   ],
   "metadata": {
    "collapsed": false,
    "pycharm": {
     "name": "#%%\n"
    },
    "ExecuteTime": {
     "end_time": "2024-01-02T09:23:08.282945Z",
     "start_time": "2024-01-02T09:23:08.278480Z"
    }
   }
  },
  {
   "cell_type": "code",
   "execution_count": 5,
   "outputs": [
    {
     "name": "stdout",
     "output_type": "stream",
     "text": [
      "(50, 2)\n",
      "                                         instruction  \\\n",
      "0  对以下代码进行调试。\\ndef add(a,b):\\n  return a + b\\n  p...   \n",
      "1                     为一个新的智能手机应用程序起个优秀的名称并写一句简短的介绍。   \n",
      "2  在给定的代码示例中，修复一个特定的错误。\\n以下是一个Python代码示例：\\ndef su...   \n",
      "3  根据文本生成一段简短的摘要。\\n文本：据报道，乔治·华盛顿于1732年2月22日出生在维珍尼...   \n",
      "4                                  回答下面这个问题：什么是人工智能？   \n",
      "\n",
      "                                              output  \n",
      "0  这段代码的问题是在函数内部， `print` 语句出现在 `return` 语句之后，也就是...  \n",
      "1  为一个新的智能手机应用程序起一个优秀的名称可以考虑以下几点：\\n1. 名称应该简单易记，不宜...  \n",
      "2  该Python代码中的错误是调用sum()函数时传递了3个参数，而该函数只接受2个参数。因此...  \n",
      "3                     乔治·华盛顿出生在1732年2月22日，位于维吉尼亚殖民地。  \n",
      "4  人工智能（Artificial Intelligence，简称 AI）是一种旨在模拟、复制、...  \n"
     ]
    }
   ],
   "source": [
    "select_instruct_df=belle_instruct_df.loc[belle_instruct_df['instruct_len']<600,['instruction','output']].copy()\n",
    "print(select_instruct_df.shape)\n",
    "print(select_instruct_df.head())"
   ],
   "metadata": {
    "collapsed": false,
    "pycharm": {
     "name": "#%%\n"
    },
    "ExecuteTime": {
     "end_time": "2024-01-02T09:23:08.286875Z",
     "start_time": "2024-01-02T09:23:08.282938Z"
    }
   }
  },
  {
   "cell_type": "code",
   "execution_count": 6,
   "outputs": [],
   "source": [
    "instruct_prompt_text=\"\"\"对于下面指令文本的意图目的，参考下面已有的类别，给出所属的类别。\n",
    "参考类别：[计算，逻辑与推理，代码，知识与百科，语言理解与抽取，上下文对话，生成与创作，角色扮演，安全指令攻击，任务规划，其他]，同时不要出现没有在上面的类别。\n",
    "\n",
    "\n",
    "指令文本内容：\n",
    "\"{text}\"\n",
    "\n",
    "任务要求如下：\n",
    "1.首先给出所属类别的分析过程。\n",
    "2.再返回结果格式为json，{{\"类别\":[xxx]}}。\n",
    "\"\"\"\n"
   ],
   "metadata": {
    "collapsed": false,
    "pycharm": {
     "name": "#%%\n"
    },
    "ExecuteTime": {
     "end_time": "2024-01-02T09:23:08.298468Z",
     "start_time": "2024-01-02T09:23:08.285982Z"
    }
   }
  },
  {
   "cell_type": "code",
   "execution_count": 7,
   "outputs": [
    {
     "name": "stderr",
     "output_type": "stream",
     "text": [
      "2024-01-02 17:23:08,377 - INFO : user_first_text_department_result_list nums: 50\n"
     ]
    }
   ],
   "source": [
    "check_user_first_text_result_list=select_instruct_df[\"instruction\"].tolist()\n",
    "\n",
    "user_first_text_department_result_list=[]\n",
    "for sub_text in check_user_first_text_result_list:\n",
    "    sub_u_f_text=instruct_prompt_text.format(text=sub_text)\n",
    "    user_first_text_department_result_list.append(sub_u_f_text)\n",
    "\n",
    "logger.info(f\"user_first_text_department_result_list nums: {len(user_first_text_department_result_list)}\")"
   ],
   "metadata": {
    "collapsed": false,
    "pycharm": {
     "name": "#%%\n"
    },
    "ExecuteTime": {
     "end_time": "2024-01-02T09:23:08.371525Z",
     "start_time": "2024-01-02T09:23:08.291686Z"
    }
   }
  },
  {
   "cell_type": "code",
   "execution_count": 8,
   "outputs": [
    {
     "name": "stdout",
     "output_type": "stream",
     "text": [
      "['对于下面指令文本的意图目的，参考下面已有的类别，给出所属的类别。\\n参考类别：[计算，逻辑与推理，代码，知识与百科，语言理解与抽取，上下文对话，生成与创作，角色扮演，安全指令攻击，任务规划，其他]，同时不要出现没有在上面的类别。\\n\\n指令文本内容：\\n\"对以下代码进行调试。\\ndef add(a,b):\\n  return a + b\\n  print(add(2,3))\"\\n\\n任务要求如下：\\n1.首先给出所属类别的分析过程。\\n2.再返回结果格式为json，{\"类别\":[xxx]}。\\n', '对于下面指令文本的意图目的，参考下面已有的类别，给出所属的类别。\\n参考类别：[计算，逻辑与推理，代码，知识与百科，语言理解与抽取，上下文对话，生成与创作，角色扮演，安全指令攻击，任务规划，其他]，同时不要出现没有在上面的类别。\\n\\n指令文本内容：\\n\"为一个新的智能手机应用程序起个优秀的名称并写一句简短的介绍。\"\\n\\n任务要求如下：\\n1.首先给出所属类别的分析过程。\\n2.再返回结果格式为json，{\"类别\":[xxx]}。\\n']\n"
     ]
    }
   ],
   "source": [
    "print(user_first_text_department_result_list[:2])\n",
    "\n"
   ],
   "metadata": {
    "collapsed": false,
    "pycharm": {
     "name": "#%%\n"
    },
    "ExecuteTime": {
     "end_time": "2024-01-02T09:23:08.373214Z",
     "start_time": "2024-01-02T09:23:08.296004Z"
    }
   }
  },
  {
   "cell_type": "code",
   "execution_count": 9,
   "outputs": [],
   "source": [
    "###################\n",
    "## load model\n",
    "###################\n",
    "model_path=\"/home/stops/Work_space/NLP_models/Qwen-14B-Chat/\"\n",
    "\n",
    "\n",
    "from transformers import AutoModel, AutoTokenizer,AutoModelForCausalLM\n",
    "from transformers.generation.utils import GenerationConfig\n",
    "from torch.nn.utils.rnn import pad_sequence\n",
    "from torch.types import Number\n",
    "\n",
    "def right_padding(sequences: [torch.Tensor], padding_value) -> torch.Tensor:\n",
    "    return pad_sequence(sequences, batch_first=True, padding_value=padding_value)\n",
    "\n",
    "\n",
    "def left_padding(sequences: [torch.Tensor], padding_value) -> torch.Tensor:\n",
    "    return right_padding(\n",
    "        [seq.flip(0) for seq in sequences],\n",
    "        padding_value=padding_value,).flip(1)\n",
    "\n",
    "\n",
    "def init_model():\n",
    "    model = AutoModelForCausalLM.from_pretrained(model_path, trust_remote_code=True,fp16=True).cuda()\n",
    "    model.generation_config = GenerationConfig.from_pretrained(model_path)\n",
    "    tokenizer = AutoTokenizer.from_pretrained(model_path,use_fast=False,trust_remote_code=True)\n",
    "    logger.info(f\"load model path: {model_path}\")\n",
    "    return model, tokenizer\n"
   ],
   "metadata": {
    "collapsed": false,
    "pycharm": {
     "name": "#%%\n"
    },
    "ExecuteTime": {
     "end_time": "2024-01-02T09:23:08.374652Z",
     "start_time": "2024-01-02T09:23:08.300570Z"
    }
   }
  },
  {
   "cell_type": "code",
   "execution_count": 10,
   "outputs": [
    {
     "name": "stderr",
     "output_type": "stream",
     "text": [
      "2024-01-02 17:23:08,439 - WARNING : Try importing flash-attention for faster inference...\n",
      "2024-01-02 17:23:08,439 - WARNING : Warning: import flash_attn rotary fail, please install FlashAttention rotary to get higher efficiency https://github.com/Dao-AILab/flash-attention/tree/main/csrc/rotary\n",
      "2024-01-02 17:23:08,440 - WARNING : Warning: import flash_attn rms_norm fail, please install FlashAttention layer_norm to get higher efficiency https://github.com/Dao-AILab/flash-attention/tree/main/csrc/layer_norm\n",
      "2024-01-02 17:23:08,440 - WARNING : Warning: import flash_attn fail, please install FlashAttention to get higher efficiency https://github.com/Dao-AILab/flash-attention\n"
     ]
    },
    {
     "data": {
      "text/plain": "Loading checkpoint shards:   0%|          | 0/15 [00:00<?, ?it/s]",
      "application/vnd.jupyter.widget-view+json": {
       "version_major": 2,
       "version_minor": 0,
       "model_id": "1444d0d621a647a2921acc23e42b0c12"
      }
     },
     "metadata": {},
     "output_type": "display_data"
    },
    {
     "name": "stderr",
     "output_type": "stream",
     "text": [
      "2024-01-02 17:24:30,325 - INFO : load model path: /home/stops/Work_space/NLP_models/Qwen-14B-Chat/\n"
     ]
    }
   ],
   "source": [
    "model, tokenizer = init_model()\n"
   ],
   "metadata": {
    "collapsed": false,
    "pycharm": {
     "name": "#%%\n"
    },
    "ExecuteTime": {
     "end_time": "2024-01-02T09:24:30.279404Z",
     "start_time": "2024-01-02T09:23:08.305522Z"
    }
   }
  },
  {
   "cell_type": "code",
   "execution_count": 11,
   "outputs": [],
   "source": [
    "## Qwen_Chat_batch_infer\n",
    "\n",
    "def Qwen_FAQ_batch_infer(batch_text_list:List[str]):\n",
    "    if isinstance(batch_text_list,str):\n",
    "        batch_text_list=[batch_text_list]\n",
    "    im_start, im_end = \"<|im_start|>\", \"<|im_end|>\"\n",
    "    im_start_tokens = [tokenizer.im_start_id]\n",
    "    im_end_tokens = [tokenizer.im_end_id]\n",
    "    nl_tokens = tokenizer.encode(\"\\n\")\n",
    "    batch_input_ids=[]\n",
    "    def _tokenize_str(role, content):\n",
    "        return tokenizer.encode(\n",
    "                role, allowed_special=set()\n",
    "            ) + nl_tokens + tokenizer.encode(content, allowed_special=set())\n",
    "    system=\"You are a helpful assistant.\"\n",
    "    system_tokens_part = _tokenize_str(\"system\", system)\n",
    "    system_tokens = im_start_tokens + system_tokens_part + im_end_tokens\n",
    "    for sub_text in batch_text_list:\n",
    "        sub_input_ids=system_tokens+nl_tokens+ im_start_tokens+ _tokenize_str(\"user\", sub_text)+ im_end_tokens \\\n",
    "            + nl_tokens+ im_start_tokens+ tokenizer.encode(\"assistant\")+ nl_tokens\n",
    "        batch_input_ids.append(torch.tensor(sub_input_ids, dtype=torch.long))\n",
    "    batch_input_len=[len(item) for item in batch_input_ids]\n",
    "    batch_max_len=max(batch_input_len)\n",
    "    ## padding-strategy: LEFT, QWEN eos_token_id=pad_token_id=151643\n",
    "    batch_input_tensor_ids=left_padding(batch_input_ids, padding_value=151643)\n",
    "    test_batch_input_ids=batch_input_tensor_ids.to(\"cuda\")\n",
    "    batch_outputs = model.generate(test_batch_input_ids)\n",
    "    batch_response_text_result_list=[]\n",
    "    for sub_output  in batch_outputs:\n",
    "        sub_response = tokenizer.decode(sub_output[batch_max_len:], skip_special_tokens=True)\n",
    "        batch_response_text_result_list.append(sub_response)\n",
    "    return batch_response_text_result_list\n"
   ],
   "metadata": {
    "collapsed": false,
    "pycharm": {
     "name": "#%%\n"
    },
    "ExecuteTime": {
     "end_time": "2024-01-02T09:24:30.280515Z",
     "start_time": "2024-01-02T09:24:30.245156Z"
    }
   }
  },
  {
   "cell_type": "code",
   "execution_count": 12,
   "outputs": [
    {
     "name": "stdout",
     "output_type": "stream",
     "text": [
      "test_text_list:  ['对于下面指令文本的意图目的，参考下面已有的类别，给出所属的类别。\\n参考类别：[计算，逻辑与推理，代码，知识与百科，语言理解与抽取，上下文对话，生成与创作，角色扮演，安全指令攻击，任务规划，其他]，同时不要出现没有在上面的类别。\\n\\n指令文本内容：\\n\"对以下代码进行调试。\\ndef add(a,b):\\n  return a + b\\n  print(add(2,3))\"\\n\\n任务要求如下：\\n1.首先给出所属类别的分析过程。\\n2.再返回结果格式为json，{\"类别\":[xxx]}。\\n', '对于下面指令文本的意图目的，参考下面已有的类别，给出所属的类别。\\n参考类别：[计算，逻辑与推理，代码，知识与百科，语言理解与抽取，上下文对话，生成与创作，角色扮演，安全指令攻击，任务规划，其他]，同时不要出现没有在上面的类别。\\n\\n指令文本内容：\\n\"为一个新的智能手机应用程序起个优秀的名称并写一句简短的介绍。\"\\n\\n任务要求如下：\\n1.首先给出所属类别的分析过程。\\n2.再返回结果格式为json，{\"类别\":[xxx]}。\\n']\n",
      "batch cost time : 3.57\n",
      "test_infer_texts:  ['该指令文本主要是关于代码的问题。通过阅读文本可以发现其描述了一个函数定义和调用的过程，并且存在语法错误（缺少冒号）。因此，这个文本最适合的类别应该是“代码”。\\n\\n返回结果：\\n{\\n    \"类别\": [\"代码\"]\\n}\\n', '分析过程: 这个指令需要进行创新和生成任务，即给定一个目标（新的智能手机应用程序），要求产生相应的输出（名称和简短介绍）。因此，这个指令应该被归类为“生成与创作”类别。\\n\\n返回结果:\\n{\"类别\": [\"生成与创作\"]}\\n']\n"
     ]
    }
   ],
   "source": [
    "test_text_list=user_first_text_department_result_list[:2]\n",
    "print(\"test_text_list: \",test_text_list)\n",
    "\n",
    "s_time=time.time()\n",
    "test_infer_texts=Qwen_FAQ_batch_infer(test_text_list)\n",
    "print(\"batch cost time : {:.2f}\".format(time.time()-s_time))\n",
    "print(\"test_infer_texts: \",test_infer_texts)\n"
   ],
   "metadata": {
    "collapsed": false,
    "pycharm": {
     "name": "#%%\n"
    },
    "ExecuteTime": {
     "end_time": "2024-01-02T09:24:33.902914Z",
     "start_time": "2024-01-02T09:24:30.256729Z"
    }
   }
  },
  {
   "cell_type": "code",
   "execution_count": 22,
   "outputs": [
    {
     "name": "stdout",
     "output_type": "stream",
     "text": [
      "test_result:  ['{\\n    \"类别\": [\"代码\"]\\n}']\n"
     ]
    }
   ],
   "source": [
    "extract_dict_text=\"\"\"[{]\\n?.*?\\n?[}]\"\"\"\n",
    "test_result=re.findall(extract_dict_text,test_infer_texts[0])\n",
    "print(\"test_result: \",test_result)\n"
   ],
   "metadata": {
    "collapsed": false,
    "pycharm": {
     "name": "#%%\n"
    },
    "ExecuteTime": {
     "end_time": "2024-01-02T09:35:27.630880Z",
     "start_time": "2024-01-02T09:35:27.622694Z"
    }
   }
  },
  {
   "cell_type": "code",
   "outputs": [
    {
     "name": "stdout",
     "output_type": "stream",
     "text": [
      "test_result:  ['{\\n  \"类别\": [\"生成与创作\"]\\n}']\n",
      "test_result_dict:  {'类别': ['生成与创作']}\n"
     ]
    }
   ],
   "source": [
    "test_text=\"\"\"这个指令的目的是生成和创作一个新的智能手机应用程序的名称和简介。因此，它应该属于“生成与创作”类别。\n",
    "\n",
    "返回结果格式为：\n",
    "```json\n",
    "{\n",
    "  \"类别\": [\"生成与创作\"]\n",
    "}\n",
    "```\"\"\"\n",
    "extract_dict_text=\"\"\"[{]\\n?.*?\\n?[}]\"\"\"\n",
    "test_result=re.findall(extract_dict_text,test_text,re.DOTALL)\n",
    "print(\"test_result: \",test_result)\n",
    "print(\"test_result_dict: \",eval(test_result[0]))"
   ],
   "metadata": {
    "collapsed": false,
    "ExecuteTime": {
     "end_time": "2024-01-02T09:34:25.569335Z",
     "start_time": "2024-01-02T09:34:25.547458Z"
    }
   },
   "execution_count": 19
  },
  {
   "cell_type": "code",
   "execution_count": 23,
   "outputs": [
    {
     "name": "stderr",
     "output_type": "stream",
     "text": [
      "2024-01-02 17:36:20,068 - INFO : run nums: 50 , batch_size: 2\n",
      "2024-01-02 17:36:20,069 - INFO : run step: 0, finished: 0.00%\n",
      "2024-01-02 17:36:33,693 - INFO : run step: 10, finished: 20.00%\n",
      "2024-01-02 17:36:54,216 - INFO : run step: 20, finished: 40.00%\n",
      "2024-01-02 17:37:09,095 - INFO : run step: 30, finished: 60.00%\n",
      "2024-01-02 17:37:22,461 - INFO : run step: 40, finished: 80.00%\n",
      "2024-01-02 17:37:36,399 - INFO : department_infer_detail_result nums: 50\n",
      "2024-01-02 17:37:36,399 - INFO : examples: ['1. 分析过程：\\n   这段文本描述了一个函数定义和一个函数调用。它需要我们理解和执行这段代码，并找出可能存在的错误或问题。这涉及到代码的理解、执行和调试，因此该指令可以归入“代码”类别。\\n\\n2. 返回结果：\\n   {\"类别\": \"代码\"}\\n', '1. 分析过程：该指令的任务是为新的智能手机应用程序命名和撰写简短介绍，这涉及到创意和写作能力，所以主要涉及的类别可能是“生成与创作”。\\n\\n2. 返回结果：\\n   {\"类别\": \"生成与创作\"}\\n']\n",
      "2024-01-02 17:37:36,400 - INFO : department_infer_result nums: 50\n",
      "2024-01-02 17:37:36,400 - INFO : examples: ['{\"类别\": \"代码\"}', '{\"类别\": \"生成与创作\"}']\n"
     ]
    }
   ],
   "source": [
    "####################\n",
    "## 预测结果\n",
    "####################\n",
    "department_infer_detail_result=[]\n",
    "department_infer_result=[]\n",
    "batch_size=2\n",
    "all_nums=len(user_first_text_department_result_list)\n",
    "logger.info(f\"run nums: {all_nums} , batch_size: {batch_size}\")\n",
    "\n",
    "for idx in range(0,all_nums,batch_size):\n",
    "    if idx%10==0:\n",
    "        logger.info(\"run step: {}, finished: {:.2%}\".format(idx,idx/all_nums))\n",
    "    sub_batch_texts=user_first_text_department_result_list[idx:(idx+batch_size)]\n",
    "    sub_infer_texts=Qwen_FAQ_batch_infer(sub_batch_texts)\n",
    "    extract_dict_text=\"\"\"[{]\\n?.*?\\n?[}]\"\"\"\n",
    "    for sub_text in sub_infer_texts:\n",
    "        sub_result=re.findall(extract_dict_text,sub_text)\n",
    "        department_infer_detail_result.append(sub_text)\n",
    "        if sub_result:\n",
    "            sub_result_text=sub_result[0]\n",
    "        else:\n",
    "            sub_result_text=None\n",
    "        department_infer_result.append(sub_result_text)\n",
    "\n",
    "logger.info(f\"department_infer_detail_result nums: {len(department_infer_detail_result)}\")\n",
    "logger.info(f\"examples: {department_infer_detail_result[:2]}\")\n",
    "\n",
    "\n",
    "logger.info(f\"department_infer_result nums: {len(department_infer_result)}\")\n",
    "logger.info(f\"examples: {department_infer_result[:2]}\")\n"
   ],
   "metadata": {
    "collapsed": false,
    "pycharm": {
     "name": "#%%\n"
    },
    "ExecuteTime": {
     "end_time": "2024-01-02T09:37:36.313027Z",
     "start_time": "2024-01-02T09:36:19.951731Z"
    }
   }
  },
  {
   "cell_type": "code",
   "execution_count": 24,
   "outputs": [
    {
     "name": "stderr",
     "output_type": "stream",
     "text": [
      "2024-01-02 17:37:36,405 - INFO : final_department_result_list nums: 50\n",
      "2024-01-02 17:37:36,405 - INFO : examples: ['代码', '生成与创作']\n"
     ]
    }
   ],
   "source": [
    "final_department_result_list=[]\n",
    "for sub_text in department_infer_result:\n",
    "    #print(\"sub_text: \",sub_text)\n",
    "    try:\n",
    "        sub_dict=eval(sub_text)\n",
    "        #print(\"sub_dict: \",sub_dict)\n",
    "        sub_raw_res=sub_dict[\"类别\"]\n",
    "        if isinstance(sub_raw_res,List):\n",
    "            sub_res=sub_raw_res[0]\n",
    "        else:\n",
    "            sub_res=sub_raw_res\n",
    "    except:\n",
    "        sub_res=None\n",
    "    final_department_result_list.append(sub_res)\n",
    "\n",
    "logger.info(f\"final_department_result_list nums: {len(final_department_result_list)}\")\n",
    "logger.info(f\"examples: {final_department_result_list[:2]}\")\n"
   ],
   "metadata": {
    "collapsed": false,
    "pycharm": {
     "name": "#%%\n"
    },
    "ExecuteTime": {
     "end_time": "2024-01-02T09:37:36.315593Z",
     "start_time": "2024-01-02T09:37:36.312045Z"
    }
   }
  },
  {
   "cell_type": "code",
   "execution_count": 25,
   "outputs": [
    {
     "name": "stderr",
     "output_type": "stream",
     "text": [
      "2024-01-02 17:37:36,424 - INFO : data nums: (50, 5), save file: output_data/Instruct_clf_result_by_qwen_231221_df.xlsx\n"
     ]
    },
    {
     "name": "stdout",
     "output_type": "stream",
     "text": [
      "(50, 5)\n",
      "                                         instruction  \\\n",
      "0  对以下代码进行调试。\\ndef add(a,b):\\n  return a + b\\n  p...   \n",
      "1                     为一个新的智能手机应用程序起个优秀的名称并写一句简短的介绍。   \n",
      "2  在给定的代码示例中，修复一个特定的错误。\\n以下是一个Python代码示例：\\ndef su...   \n",
      "3  根据文本生成一段简短的摘要。\\n文本：据报道，乔治·华盛顿于1732年2月22日出生在维珍尼...   \n",
      "4                                  回答下面这个问题：什么是人工智能？   \n",
      "\n",
      "                                              output  \\\n",
      "0  这段代码的问题是在函数内部， `print` 语句出现在 `return` 语句之后，也就是...   \n",
      "1  为一个新的智能手机应用程序起一个优秀的名称可以考虑以下几点：\\n1. 名称应该简单易记，不宜...   \n",
      "2  该Python代码中的错误是调用sum()函数时传递了3个参数，而该函数只接受2个参数。因此...   \n",
      "3                     乔治·华盛顿出生在1732年2月22日，位于维吉尼亚殖民地。   \n",
      "4  人工智能（Artificial Intelligence，简称 AI）是一种旨在模拟、复制、...   \n",
      "\n",
      "                                       detail_result      dict_result result  \n",
      "0  1. 分析过程：\\n   这段文本描述了一个函数定义和一个函数调用。它需要我们理解和执行这段...     {\"类别\": \"代码\"}     代码  \n",
      "1  1. 分析过程：该指令的任务是为新的智能手机应用程序命名和撰写简短介绍，这涉及到创意和写作能...  {\"类别\": \"生成与创作\"}  生成与创作  \n",
      "2  分析过程：该指令需要用户理解和执行Python代码，并识别和修复其中的错误。这涉及到对编程语...     {\"类别\": \"代码\"}     代码  \n",
      "3  这个指令的目的是要求你对给定的文本进行摘要生成，即从长篇幅的文本中提取出关键信息并生成简洁的...             None   None  \n",
      "4               这个指令主要涉及到了“定义和解释”，因此我将它分类为“定义与解释”。\\n             None   None  \n",
      "instruction      0\n",
      "output           0\n",
      "detail_result    0\n",
      "dict_result      4\n",
      "result           4\n",
      "dtype: int64\n"
     ]
    }
   ],
   "source": [
    "\n",
    "\n",
    "save_df=select_instruct_df.head(len(final_department_result_list)).copy()\n",
    "\n",
    "save_df.loc[:,\"detail_result\"]=department_infer_detail_result\n",
    "save_df.loc[:,\"dict_result\"]=department_infer_result\n",
    "save_df.loc[:,\"result\"]=final_department_result_list\n",
    "\n",
    "print(save_df.shape)\n",
    "print(save_df.head())\n",
    "print(save_df.isnull().sum())\n",
    "\n",
    "save_mode=True\n",
    "save_file=\"output_data/Instruct_clf_result_by_qwen_231221_df.xlsx\"\n",
    "if save_mode:\n",
    "    save_df.to_excel(save_file,index=False)\n",
    "    logger.info(f\"data nums: {save_df.shape}, save file: {save_file}\")\n",
    "\n",
    "\n"
   ],
   "metadata": {
    "collapsed": false,
    "pycharm": {
     "name": "#%%\n"
    },
    "ExecuteTime": {
     "end_time": "2024-01-02T09:37:36.335217Z",
     "start_time": "2024-01-02T09:37:36.312738Z"
    }
   }
  },
  {
   "cell_type": "code",
   "execution_count": 2,
   "outputs": [],
   "source": [
    "\n",
    "def show_df(df):\n",
    "    print(df.shape)\n",
    "    print(df.head(2))\n",
    "    print(df.isnull().sum())\n",
    "\n",
    "\n"
   ],
   "metadata": {
    "collapsed": false,
    "pycharm": {
     "name": "#%%\n"
    },
    "ExecuteTime": {
     "end_time": "2024-01-03T07:08:31.723887Z",
     "start_time": "2024-01-03T07:08:31.658491Z"
    }
   }
  },
  {
   "cell_type": "code",
   "execution_count": 3,
   "outputs": [
    {
     "name": "stdout",
     "output_type": "stream",
     "text": [
      "(48301, 6)\n",
      "  instruction                                             output  \\\n",
      "0  保持健康的三个提示。  以下是保持健康的三个提示：\\n\\n1. 保持身体活动。每天做适当的身体运动，如散步、跑步或游...   \n",
      "1     三原色是什么？  三原色通常指的是红色、绿色和蓝色（RGB）。它们是通过加色混合原理创建色彩的三种基础颜色。在...   \n",
      "\n",
      "                                               input  \\\n",
      "0  对于下面指令文本的意图目的，参考下面已有的类别，给出所属的类别。\\n参考类别：[计算，逻辑与...   \n",
      "1  对于下面指令文本的意图目的，参考下面已有的类别，给出所属的类别。\\n参考类别：[计算，逻辑与...   \n",
      "\n",
      "                                       detail_result               dict_label  \\\n",
      "0  这个指令文本的内容是关于提供保持健康的建议或提示，因此它可以被分类为“生成与创作”类别。这类...          {\"类别\": \"生成与创作\"}   \n",
      "1  这个指令的意图是询问某个特定的知识点，即“三原色”。因此，它应该被归入“知识与百科”类别。在...  {\\n    \"类别\": \"知识与百科\"\\n}   \n",
      "\n",
      "  label  \n",
      "0     生  \n",
      "1     知  \n",
      "instruction         0\n",
      "output              0\n",
      "input               0\n",
      "detail_result       0\n",
      "dict_label       6295\n",
      "label            6961\n",
      "dtype: int64\n"
     ]
    }
   ],
   "source": [
    "\n",
    "################################\n",
    "## Stage-2: 针对预测的结果进行格式处理\n",
    "################################\n",
    "\n",
    "label_file=\"output_data/Alpaca_gpt4_zh_instruct_label_data_5w_240102.xlsx\"\n",
    "label_df=pd.read_excel(label_file)\n",
    "\n",
    "show_df(label_df)\n"
   ],
   "metadata": {
    "collapsed": false,
    "pycharm": {
     "name": "#%%\n"
    },
    "ExecuteTime": {
     "end_time": "2024-01-03T07:08:44.106139Z",
     "start_time": "2024-01-03T07:08:39.808947Z"
    }
   }
  },
  {
   "cell_type": "code",
   "outputs": [
    {
     "name": "stderr",
     "output_type": "stream",
     "text": [
      "2024-01-03 15:23:01,831 - INFO : single_label_result_list nums: 48301\n",
      "2024-01-03 15:23:01,832 - INFO : combine_label_result_list nums: 48301\n",
      "2024-01-03 15:23:01,832 - INFO : Examples: ['生成与创作', '知识与百科', '知识与百科', None, '故事/叙述']\n",
      "2024-01-03 15:23:01,832 - INFO : Examples: ['生成与创作', '知识与百科', '知识与百科', None, '故事/叙述+人生经历']\n"
     ]
    }
   ],
   "source": [
    "single_label_result_list=[]\n",
    "combine_label_result_list=[]\n",
    "\n",
    "dict_label_data=label_df[\"dict_label\"].tolist()\n",
    "\n",
    "for sub_dict_text in dict_label_data:\n",
    "    if pd.notnull(sub_dict_text):\n",
    "        try:\n",
    "            sub_dict_data=eval(sub_dict_text)\n",
    "            sub_raw_res = sub_dict_data[\"类别\"]\n",
    "            if isinstance(sub_raw_res, List):\n",
    "                sub_comb_label_string=\"+\".join(sub_raw_res)\n",
    "                sub_single_label_string = sub_raw_res[0]\n",
    "            else:\n",
    "                sub_comb_label_string=sub_raw_res\n",
    "                sub_single_label_string = sub_raw_res\n",
    "        except:\n",
    "            sub_comb_label_string=None\n",
    "            sub_single_label_string =None\n",
    "    else:\n",
    "        sub_comb_label_string=None\n",
    "        sub_single_label_string =None\n",
    "    single_label_result_list.append(sub_single_label_string)\n",
    "    combine_label_result_list.append(sub_comb_label_string)\n",
    "    \n",
    "    \n",
    "logger.info(f\"single_label_result_list nums: {len(single_label_result_list)}\")\n",
    "logger.info(f\"combine_label_result_list nums: {len(combine_label_result_list)}\")\n",
    "logger.info(f\"Examples: {single_label_result_list[:5]}\")\n",
    "logger.info(f\"Examples: {combine_label_result_list[:5]}\")\n",
    "\n"
   ],
   "metadata": {
    "collapsed": false,
    "ExecuteTime": {
     "end_time": "2024-01-03T07:23:01.733212Z",
     "start_time": "2024-01-03T07:23:01.445326Z"
    }
   },
   "execution_count": 7
  },
  {
   "cell_type": "code",
   "outputs": [
    {
     "name": "stdout",
     "output_type": "stream",
     "text": [
      "(48301, 8)\n",
      "  instruction                                             output  \\\n",
      "0  保持健康的三个提示。  以下是保持健康的三个提示：\\n\\n1. 保持身体活动。每天做适当的身体运动，如散步、跑步或游...   \n",
      "1     三原色是什么？  三原色通常指的是红色、绿色和蓝色（RGB）。它们是通过加色混合原理创建色彩的三种基础颜色。在...   \n",
      "\n",
      "                                               input  \\\n",
      "0  对于下面指令文本的意图目的，参考下面已有的类别，给出所属的类别。\\n参考类别：[计算，逻辑与...   \n",
      "1  对于下面指令文本的意图目的，参考下面已有的类别，给出所属的类别。\\n参考类别：[计算，逻辑与...   \n",
      "\n",
      "                                       detail_result               dict_label  \\\n",
      "0  这个指令文本的内容是关于提供保持健康的建议或提示，因此它可以被分类为“生成与创作”类别。这类...          {\"类别\": \"生成与创作\"}   \n",
      "1  这个指令的意图是询问某个特定的知识点，即“三原色”。因此，它应该被归入“知识与百科”类别。在...  {\\n    \"类别\": \"知识与百科\"\\n}   \n",
      "\n",
      "  label single_label combine_label  \n",
      "0     生        生成与创作         生成与创作  \n",
      "1     知        知识与百科         知识与百科  \n",
      "instruction         0\n",
      "output              0\n",
      "input               0\n",
      "detail_result       0\n",
      "dict_label       6295\n",
      "label            6961\n",
      "single_label     6961\n",
      "combine_label    6961\n",
      "dtype: int64\n"
     ]
    }
   ],
   "source": [
    "\n",
    "label_df.loc[:,'single_label']=single_label_result_list\n",
    "label_df.loc[:,'combine_label']=combine_label_result_list\n",
    "show_df(label_df)\n"
   ],
   "metadata": {
    "collapsed": false,
    "ExecuteTime": {
     "end_time": "2024-01-03T07:24:10.166109Z",
     "start_time": "2024-01-03T07:24:09.970008Z"
    }
   },
   "execution_count": 8
  },
  {
   "cell_type": "code",
   "outputs": [
    {
     "name": "stdout",
     "output_type": "stream",
     "text": [
      "(41340, 8)\n",
      "  instruction                                             output  \\\n",
      "0  保持健康的三个提示。  以下是保持健康的三个提示：\\n\\n1. 保持身体活动。每天做适当的身体运动，如散步、跑步或游...   \n",
      "1     三原色是什么？  三原色通常指的是红色、绿色和蓝色（RGB）。它们是通过加色混合原理创建色彩的三种基础颜色。在...   \n",
      "\n",
      "                                               input  \\\n",
      "0  对于下面指令文本的意图目的，参考下面已有的类别，给出所属的类别。\\n参考类别：[计算，逻辑与...   \n",
      "1  对于下面指令文本的意图目的，参考下面已有的类别，给出所属的类别。\\n参考类别：[计算，逻辑与...   \n",
      "\n",
      "                                       detail_result               dict_label  \\\n",
      "0  这个指令文本的内容是关于提供保持健康的建议或提示，因此它可以被分类为“生成与创作”类别。这类...          {\"类别\": \"生成与创作\"}   \n",
      "1  这个指令的意图是询问某个特定的知识点，即“三原色”。因此，它应该被归入“知识与百科”类别。在...  {\\n    \"类别\": \"知识与百科\"\\n}   \n",
      "\n",
      "  label single_label combine_label  \n",
      "0     生        生成与创作         生成与创作  \n",
      "1     知        知识与百科         知识与百科  \n",
      "instruction      0\n",
      "output           0\n",
      "input            0\n",
      "detail_result    0\n",
      "dict_label       0\n",
      "label            5\n",
      "single_label     0\n",
      "combine_label    0\n",
      "dtype: int64\n"
     ]
    }
   ],
   "source": [
    "\n",
    "save_df=label_df.loc[label_df[\"single_label\"].notnull(),:].copy()\n",
    "show_df(save_df)\n",
    "\n",
    "\n"
   ],
   "metadata": {
    "collapsed": false,
    "ExecuteTime": {
     "end_time": "2024-01-03T07:29:42.218931Z",
     "start_time": "2024-01-03T07:29:42.096197Z"
    }
   },
   "execution_count": 11
  },
  {
   "cell_type": "code",
   "outputs": [
    {
     "name": "stderr",
     "output_type": "stream",
     "text": [
      "2024-01-03 15:31:34,801 - INFO : data nums: (41340, 8), save file: output_data/Alpaca_gpt4_zh_instruct_label_data_5w_notnull_v2_240103.xlsx\n"
     ]
    }
   ],
   "source": [
    "\n",
    "save_mode=True\n",
    "save_file=\"output_data/Alpaca_gpt4_zh_instruct_label_data_5w_notnull_v2_240103.xlsx\"\n",
    "if save_mode:\n",
    "    save_df.to_excel(save_file,index=False)\n",
    "    logger.info(f\"data nums: {save_df.shape}, save file: {save_file}\")\n",
    "\n"
   ],
   "metadata": {
    "collapsed": false,
    "ExecuteTime": {
     "end_time": "2024-01-03T07:31:34.722435Z",
     "start_time": "2024-01-03T07:31:27.957042Z"
    }
   },
   "execution_count": 13
  },
  {
   "cell_type": "code",
   "outputs": [],
   "source": [
    "################################\n",
    "## Stage-3: 针对预测的结果进行格式处理\n",
    "################################\n",
    "\n",
    "\n",
    "\n",
    "\n",
    "\n",
    "\n",
    "\n"
   ],
   "metadata": {
    "collapsed": false
   },
   "execution_count": null
  }
 ],
 "metadata": {
  "kernelspec": {
   "name": "llm_env",
   "language": "python",
   "display_name": "LLM_env"
  },
  "language_info": {
   "codemirror_mode": {
    "name": "ipython",
    "version": 2
   },
   "file_extension": ".py",
   "mimetype": "text/x-python",
   "name": "python",
   "nbconvert_exporter": "python",
   "pygments_lexer": "ipython2",
   "version": "2.7.6"
  }
 },
 "nbformat": 4,
 "nbformat_minor": 0
}
