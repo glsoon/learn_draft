{
 "cells": [
  {
   "cell_type": "code",
   "execution_count": 1,
   "metadata": {
    "collapsed": true
   },
   "outputs": [
    {
     "name": "stdout",
     "output_type": "stream",
     "text": [
      "\n",
      "===================================BUG REPORT===================================\n",
      "Welcome to bitsandbytes. For bug reports, please submit your error trace to: https://github.com/TimDettmers/bitsandbytes/issues\n",
      "================================================================================\n",
      "CUDA SETUP: CUDA runtime path found: /usr/local/cuda/lib64/libcudart.so\n",
      "CUDA SETUP: Highest compute capability among GPUs detected: 7.0\n",
      "CUDA SETUP: Detected CUDA version 116\n",
      "CUDA SETUP: Loading binary /home/stops/anaconda3/envs/text_generation_x/lib/python3.8/site-packages/bitsandbytes/libbitsandbytes_cuda116_nocublaslt.so...\n"
     ]
    },
    {
     "name": "stderr",
     "output_type": "stream",
     "text": [
      "/home/stops/anaconda3/envs/text_generation_x/lib/python3.8/site-packages/bitsandbytes/cuda_setup/main.py:136: UserWarning: WARNING: Compute capability < 7.5 detected! Only slow 8-bit matmul is supported for your GPU!\n",
      "  warn(msg)\n",
      "2023-09-08 11:03:58,305 - INFO : Starting\n"
     ]
    }
   ],
   "source": [
    "import copy\n",
    "import logging\n",
    "import numpy as np\n",
    "import pandas as pd\n",
    "from datetime import datetime,timedelta,date\n",
    "import time\n",
    "import torch\n",
    "from torch.utils.data import DataLoader\n",
    "from tqdm import tqdm\n",
    "from transformers import AutoModelForSeq2SeqLM, AutoTokenizer, AutoModel, get_linear_schedule_with_warmup, \\\n",
    "    default_data_collator, TrainingArguments, Trainer\n",
    "from sentence_transformers import SentencesDataset, LoggingHandler, SentenceTransformer\n",
    "from sklearn.metrics.pairwise import paired_cosine_distances, paired_euclidean_distances, paired_manhattan_distances\n",
    "from scipy.stats import pearsonr, spearmanr\n",
    "from transformers import AutoTokenizer\n",
    "from transformers import BertConfig, BertTokenizer,BertTokenizerFast\n",
    "from datasets import Dataset\n",
    "from typing import List,Union\n",
    "import tqdm\n",
    "import re\n",
    "import json\n",
    "import os,time\n",
    "from torch.nn.utils.rnn import pad_sequence\n",
    "from torch.types import Number\n",
    "\n",
    "os.chdir('/home/stops/Work_space/NLP_work/Med_assit_chatglm')\n",
    "os.environ['CUDA_VISIBLE_DEVICES']='0'\n",
    "\n",
    "from db_config_taiyi import DB ## load data from pgsql\n",
    "\n",
    "logger = logging.getLogger(__name__)\n",
    "logging.basicConfig(level=logging.INFO,format='%(asctime)s - %(levelname)s - %(message)s')\n",
    "logger.info('Starting')\n"
   ]
  },
  {
   "cell_type": "code",
   "execution_count": 11,
   "outputs": [
    {
     "name": "stderr",
     "output_type": "stream",
     "text": [
      "2023-09-08 11:34:12,946 - INFO : load data file: /home/stops/BERT-model/train2.json\n",
      "2023-09-08 11:34:12,947 - INFO : train_data_list nums : 1031\n",
      "2023-09-08 11:34:12,948 - INFO : data example: ['请编写一个SQL查询，找出销售额最高的5个产品，并进行注释说明每条代码的功能。。1. 使用INNER JOIN将“订单”和“订单细节”表连接起来\\n2. 使用SUM函数计算每种产品的销售额，按降序排序\\n3. 使用LIMIT限制结果返回前5条\\n代码实现：\\n```sql\\nSELECT p.product_name, SUM(od.quantity*od.unit_price) AS total_sales\\nFROM orders o\\nINNER JOIN order_details od ON o.order_id=od.order_id\\nINNER JOIN products p ON od.product_id =p.product_id\\nGROUP BY p.product_name\\nORDER BY total_sales DESC\\nLIMIT 5;\\n```\\n代码解释：\\n1. 第一行：选择产品名称以及计算其销售额。\\n2. 第二行：使用INNER JOIN将三个表连接\\n5. 第五行：使用LIMIT限制结果返回前5条。', '请解释关于Python中的lambda函数的概念。。在Python中，lambda函数是一种匿名函数，也称为内联函数或函数式函数。它们允许指定单行函数定义，而无需编写完整的函数体。Lambda函数可以传递给其他函数作为参数，或在其它的表达式中使用。Python中的lambda函数完全是语法糖，它使得我们能够更快速和方便地定义和使用简单的函数。\\nlambda函数的语法规则如下：\\n```\\nlambda arguments : expression\\n```\\n其中，arguments是指函数的输入参数，使用逗号分隔，而expression则是函数内的返回值。通过这种方式，可以轻松地创建简单函数，而无需定义完整的函数体。lambda函数返回结果为匿名函数对象，需要使用变量来实例化该函数并调用。\\n下面是一个lambda函数的示例，该函数将两个参数相加并返回结果：\\n```\\n>>> add = lambda x, y: x + y\\n>>> add(2, 3复杂逻辑的函数时，还是应该使用完整的函数定义语法。']\n"
     ]
    }
   ],
   "source": [
    "data_file=\"/home/stops/BERT-model/train2.json\"\n",
    "\n",
    "text_data_list=[]\n",
    "label_data_list=[]\n",
    "label_id_data_list=[]\n",
    "with open(data_file,\"r\") as f:\n",
    "    for sub_line in f.readlines():\n",
    "        sub_line=json.loads(sub_line)\n",
    "        human = sub_line['conversations'][0]['value']\n",
    "        if len(human) > 87:\n",
    "            h = human[:54]+human[-33:]\n",
    "        else:\n",
    "            h = human\n",
    "        assistant = sub_line['conversations'][1]['value']\n",
    "        if len(assistant) > 425:\n",
    "            a = assistant[:400]+assistant[-25:]\n",
    "        else:\n",
    "            a = assistant\n",
    "        label=sub_line[\"label\"]\n",
    "        label_id=sub_line[\"id\"]\n",
    "        text = h + '。' + a\n",
    "        text_data_list.append(text)\n",
    "        label_data_list.append(label)\n",
    "        label_id_data_list.append(label_id)\n",
    "\n",
    "\n",
    "logger.info(f\"load data file: {data_file}\")\n",
    "logger.info(f\"train_data_list nums : {len(text_data_list)}\")\n",
    "logger.info(f\"data example: {text_data_list[:2]}\")\n"
   ],
   "metadata": {
    "collapsed": false,
    "pycharm": {
     "name": "#%%\n"
    }
   }
  },
  {
   "cell_type": "code",
   "execution_count": 12,
   "outputs": [
    {
     "name": "stdout",
     "output_type": "stream",
     "text": [
      "(1031, 3)\n",
      "                                                text label_answer  label_id\n",
      "0  请编写一个SQL查询，找出销售额最高的5个产品，并进行注释说明每条代码的功能。。1. 使用I...         code  37252458\n",
      "1  请解释关于Python中的lambda函数的概念。。在Python中，lambda函数是一种...         code  82662470\n",
      "text            0\n",
      "label_answer    0\n",
      "label_id        0\n",
      "dtype: int64\n"
     ]
    }
   ],
   "source": [
    "def show_df(df):\n",
    "    print(df.shape)\n",
    "    print(df.head(2))\n",
    "    print(df.isnull().sum())\n",
    "\n",
    "\n",
    "instruct_clf_df=pd.DataFrame({\"text\":text_data_list,\n",
    "                              \"label_answer\":label_data_list,\n",
    "                              \"label_id\":label_id_data_list})\n",
    "\n",
    "show_df(instruct_clf_df)\n"
   ],
   "metadata": {
    "collapsed": false,
    "pycharm": {
     "name": "#%%\n"
    }
   }
  },
  {
   "cell_type": "code",
   "execution_count": 17,
   "outputs": [],
   "source": [
    "label_text_list=instruct_clf_df.loc[:,\"label_answer\"].unique().tolist()"
   ],
   "metadata": {
    "collapsed": false,
    "pycharm": {
     "name": "#%%\n"
    }
   }
  },
  {
   "cell_type": "code",
   "execution_count": 18,
   "outputs": [
    {
     "name": "stdout",
     "output_type": "stream",
     "text": [
      "{'biography': 12,\n",
      " 'brainstorming': 1,\n",
      " 'business': 13,\n",
      " 'chat': 3,\n",
      " 'classification': 9,\n",
      " 'code': 0,\n",
      " 'culture': 16,\n",
      " 'economy': 15,\n",
      " 'expansion': 7,\n",
      " 'extraction': 8,\n",
      " 'health': 2,\n",
      " 'math': 11,\n",
      " 'other': 17,\n",
      " 'rewriting': 5,\n",
      " 'science': 10,\n",
      " 'society': 14,\n",
      " 'summarization': 6,\n",
      " 'translation': 4}\n"
     ]
    }
   ],
   "source": [
    "label2id_dict=dict(zip(label_text_list,range(len(label_text_list))))\n",
    "\n",
    "from pprint import pprint\n",
    "pprint(label2id_dict)\n"
   ],
   "metadata": {
    "collapsed": false,
    "pycharm": {
     "name": "#%%\n"
    }
   }
  },
  {
   "cell_type": "code",
   "execution_count": 19,
   "outputs": [
    {
     "name": "stdout",
     "output_type": "stream",
     "text": [
      "brainstorming     119\n",
      "biography         102\n",
      "science            80\n",
      "code               76\n",
      "classification     67\n",
      "business           65\n",
      "summarization      59\n",
      "math               59\n",
      "other              55\n",
      "extraction         45\n",
      "society            45\n",
      "chat               44\n",
      "culture            42\n",
      "expansion          40\n",
      "translation        39\n",
      "health             34\n",
      "economy            33\n",
      "rewriting          27\n",
      "Name: label_answer, dtype: int64\n"
     ]
    }
   ],
   "source": [
    "print(instruct_clf_df[\"label_answer\"].value_counts())"
   ],
   "metadata": {
    "collapsed": false,
    "pycharm": {
     "name": "#%%\n"
    }
   }
  },
  {
   "cell_type": "code",
   "execution_count": 20,
   "outputs": [
    {
     "name": "stderr",
     "output_type": "stream",
     "text": [
      "2023-09-08 13:10:49,429 - INFO : save file: data/instruct_clf_df_0908.xlsx\n"
     ]
    }
   ],
   "source": [
    "save_mode=True\n",
    "if save_mode:\n",
    "    save_file=\"data/instruct_clf_df_0908.xlsx\"\n",
    "    instruct_clf_df.to_excel(save_file,index=False)\n",
    "    logger.info(f\"save file: {save_file}\")"
   ],
   "metadata": {
    "collapsed": false,
    "pycharm": {
     "name": "#%%\n"
    }
   }
  },
  {
   "cell_type": "code",
   "execution_count": 22,
   "outputs": [],
   "source": [
    "with open(\"data/instruct_label2id.json\",\"w+\") as f:\n",
    "    json.dump(label2id_dict,f)\n"
   ],
   "metadata": {
    "collapsed": false,
    "pycharm": {
     "name": "#%%\n"
    }
   }
  },
  {
   "cell_type": "code",
   "execution_count": null,
   "outputs": [],
   "source": [
    "\n",
    "\n",
    "\n",
    "\n"
   ],
   "metadata": {
    "collapsed": false,
    "pycharm": {
     "name": "#%%\n"
    }
   }
  }
 ],
 "metadata": {
  "kernelspec": {
   "name": "text_generation_x",
   "language": "python",
   "display_name": "text_generation_x"
  },
  "language_info": {
   "codemirror_mode": {
    "name": "ipython",
    "version": 2
   },
   "file_extension": ".py",
   "mimetype": "text/x-python",
   "name": "python",
   "nbconvert_exporter": "python",
   "pygments_lexer": "ipython2",
   "version": "2.7.6"
  }
 },
 "nbformat": 4,
 "nbformat_minor": 0
}
