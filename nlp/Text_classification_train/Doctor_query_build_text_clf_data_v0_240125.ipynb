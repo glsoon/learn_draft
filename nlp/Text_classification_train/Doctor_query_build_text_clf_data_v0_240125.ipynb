{
 "cells": [
  {
   "cell_type": "code",
   "execution_count": 1,
   "id": "initial_id",
   "metadata": {
    "collapsed": true,
    "ExecuteTime": {
     "end_time": "2024-01-25T02:28:15.515861Z",
     "start_time": "2024-01-25T02:28:13.569099Z"
    }
   },
   "outputs": [
    {
     "name": "stderr",
     "output_type": "stream",
     "text": [
      "2024-01-25 10:28:15,542 - INFO - Starting\n"
     ]
    }
   ],
   "source": [
    "\n",
    "import os\n",
    "os.environ['CUDA_VISIBLE_DEVICES']='0'\n",
    "import copy\n",
    "import logging\n",
    "import numpy as np\n",
    "import pandas as pd\n",
    "from datetime import datetime,timedelta,date\n",
    "import time\n",
    "import torch\n",
    "import torch.nn as nn\n",
    "from torch.utils.data import Dataset,DataLoader,RandomSampler\n",
    "from tqdm import tqdm\n",
    "from transformers import AutoTokenizer, AutoModel, AutoModelForSeq2SeqLM, AutoModel, AutoModelForCausalLM\n",
    "from sentence_transformers import SentencesDataset, LoggingHandler, SentenceTransformer\n",
    "from sklearn.metrics.pairwise import paired_cosine_distances, paired_euclidean_distances, paired_manhattan_distances\n",
    "from scipy.stats import pearsonr, spearmanr\n",
    "from transformers import BertConfig, BertTokenizer,BertTokenizerFast\n",
    "from torch.nn.utils.rnn import pad_sequence\n",
    "from torch.types import Number\n",
    "from typing import List,Union,Dict\n",
    "import tqdm\n",
    "import re\n",
    "import json\n",
    "from dataclasses import dataclass\n",
    "from pprint import pprint\n",
    "os.chdir('/home/stops/Work_space/NLP_work/Med_assit_chatglm')\n",
    "\n",
    "logger = logging.getLogger(__name__)\n",
    "logging.basicConfig(level=logging.INFO,format='%(asctime)s - %(levelname)s - %(message)s')\n",
    "logger.info('Starting')\n",
    "\n",
    "\n",
    "def show_df(df):\n",
    "    print(df.shape)\n",
    "    print(df.head(2))\n",
    "    print(df.isnull().sum())\n",
    "    \n"
   ]
  },
  {
   "cell_type": "code",
   "outputs": [
    {
     "name": "stdout",
     "output_type": "stream",
     "text": [
      "(1750, 5)\n",
      "   id 模板名称  标签名称  标签code                                              内容-清洗\n",
      "0  26  糖尿病  主要症状       1  您发现血糖升高有多长时间了？平时有无多饮、多食、多尿、体重下降等情况呢？\\n最高血糖数值是多...\n",
      "1  26  糖尿病  伴随症状       2                     平时有自觉视物模糊、四肢麻木、皮肤瘙痒、或小便量少伴异味吗？\n",
      "id        0\n",
      "模板名称      0\n",
      "标签名称      0\n",
      "标签code    0\n",
      "内容-清洗     0\n",
      "dtype: int64\n"
     ]
    }
   ],
   "source": [
    "data_file=\"data/问模板-话术标准模版-标注参考-20231013.xlsx\"\n",
    "\n",
    "data_df=pd.read_excel(data_file)\n",
    "show_df(data_df)\n",
    "\n"
   ],
   "metadata": {
    "collapsed": false,
    "ExecuteTime": {
     "end_time": "2024-01-25T02:29:01.532442Z",
     "start_time": "2024-01-25T02:29:01.261615Z"
    }
   },
   "id": "2fbd16482fd517ac",
   "execution_count": 2
  },
  {
   "cell_type": "code",
   "outputs": [
    {
     "name": "stdout",
     "output_type": "stream",
     "text": [
      "['主要症状' '伴随症状' '病因诱因' '诊疗经过' '既往史']\n"
     ]
    }
   ],
   "source": [
    "\n",
    "print(data_df[\"标签名称\"].unique())\n"
   ],
   "metadata": {
    "collapsed": false,
    "ExecuteTime": {
     "end_time": "2024-01-25T02:33:56.813685Z",
     "start_time": "2024-01-25T02:33:56.810069Z"
    }
   },
   "id": "293aef8828ed9073",
   "execution_count": 3
  },
  {
   "cell_type": "code",
   "outputs": [
    {
     "name": "stdout",
     "output_type": "stream",
     "text": [
      "(1750, 2)\n",
      "                                                text label_answer\n",
      "0  您发现血糖升高有多长时间了？平时有无多饮、多食、多尿、体重下降等情况呢？\\n最高血糖数值是多...         主要症状\n",
      "1                     平时有自觉视物模糊、四肢麻木、皮肤瘙痒、或小便量少伴异味吗？         伴随症状\n",
      "text            0\n",
      "label_answer    0\n",
      "dtype: int64\n"
     ]
    }
   ],
   "source": [
    "\n",
    "select_df=data_df.loc[:,[\"内容-清洗\",\"标签名称\"]].copy()\n",
    "select_df.columns=[\"text\",\"label_answer\"]\n",
    "\n",
    "show_df(select_df)\n"
   ],
   "metadata": {
    "collapsed": false,
    "ExecuteTime": {
     "end_time": "2024-01-25T02:36:42.917794Z",
     "start_time": "2024-01-25T02:36:42.906703Z"
    }
   },
   "id": "a2aefeb7707f2ee4",
   "execution_count": 4
  },
  {
   "cell_type": "code",
   "outputs": [
    {
     "name": "stdout",
     "output_type": "stream",
     "text": [
      "count     1750.000000\n",
      "mean        50.116000\n",
      "std         27.101945\n",
      "min          1.000000\n",
      "1%          14.000000\n",
      "10%         24.000000\n",
      "20%         29.000000\n",
      "25%         31.000000\n",
      "50%         43.000000\n",
      "75%         61.000000\n",
      "80%         68.000000\n",
      "90%         88.000000\n",
      "99%        134.000000\n",
      "99.99%     211.327100\n",
      "max        215.000000\n",
      "Name: text_len, dtype: float64\n"
     ]
    }
   ],
   "source": [
    "\n",
    "select_df.loc[:,\"text_len\"]=select_df.loc[:,\"text\"].map(len)\n",
    "print(select_df[\"text_len\"].describe(percentiles=[0.01,0.1,0.2,0.25,0.5,0.75,0.8,0.9,0.99,0.9999]))\n"
   ],
   "metadata": {
    "collapsed": false,
    "ExecuteTime": {
     "end_time": "2024-01-25T03:08:47.018024Z",
     "start_time": "2024-01-25T03:08:47.005856Z"
    }
   },
   "id": "9eace8e414b5e807",
   "execution_count": 5
  },
  {
   "cell_type": "code",
   "outputs": [
    {
     "name": "stderr",
     "output_type": "stream",
     "text": [
      "2024-01-25 11:13:03,597 - INFO - label_data: ['主要症状', '伴随症状', '病因诱因', '诊疗经过', '既往史', '其他']\n",
      "2024-01-25 11:13:03,598 - INFO - label2id_data: {'主要症状': 0, '伴随症状': 1, '病因诱因': 2, '诊疗经过': 3, '既往史': 4, '其他': 5}\n"
     ]
    }
   ],
   "source": [
    "label_data=data_df[\"标签名称\"].unique().tolist()\n",
    "label_data.append(\"其他\")\n",
    "logger.info(f\"label_data: {label_data}\")\n",
    "\n",
    "label2id_data=dict(zip(label_data,range(len(label_data))))\n",
    "logger.info(f\"label2id_data: {label2id_data}\")\n"
   ],
   "metadata": {
    "collapsed": false,
    "ExecuteTime": {
     "end_time": "2024-01-25T03:13:03.485592Z",
     "start_time": "2024-01-25T03:13:03.483318Z"
    }
   },
   "id": "1fc18b33111a6736",
   "execution_count": 6
  },
  {
   "cell_type": "code",
   "outputs": [],
   "source": [
    "\n",
    "\n",
    "save_mode=True\n",
    "save_file=\"data/doc_type_label2id_240125.json\"\n",
    "if save_mode:\n",
    "    with open(save_file,\"w+\") as f :\n",
    "        json.dump(label2id_data,f,indent=2,ensure_ascii=False)\n",
    "    logger.info(f\"save file : {save_file}\")\n"
   ],
   "metadata": {
    "collapsed": false,
    "ExecuteTime": {
     "end_time": "2024-01-25T03:13:52.397797Z",
     "start_time": "2024-01-25T03:13:52.381134Z"
    }
   },
   "id": "5976842d6f1ceff3",
   "execution_count": 7
  },
  {
   "cell_type": "code",
   "outputs": [
    {
     "name": "stderr",
     "output_type": "stream",
     "text": [
      "2024-01-25 11:15:30,412 - INFO - data shape: (1750, 3), save file : output_data/Doctor_query_type_clf_train_data_v0_240125.xlsx\n"
     ]
    }
   ],
   "source": [
    "\n",
    "save_mode=True\n",
    "if save_mode:\n",
    "    save_file=\"output_data/Doctor_query_type_clf_train_data_v0_240125.xlsx\"\n",
    "    select_df.to_excel(save_file,index=False)\n",
    "    logger.info(f'data shape: {select_df.shape}, save file : {save_file}')\n",
    "\n"
   ],
   "metadata": {
    "collapsed": false,
    "ExecuteTime": {
     "end_time": "2024-01-25T03:15:30.305795Z",
     "start_time": "2024-01-25T03:15:30.224890Z"
    }
   },
   "id": "ea2551b0c0233b72",
   "execution_count": 8
  },
  {
   "cell_type": "code",
   "outputs": [],
   "source": [
    "\n",
    "\n"
   ],
   "metadata": {
    "collapsed": false
   },
   "id": "daef876911ca9b9f",
   "execution_count": null
  }
 ],
 "metadata": {
  "kernelspec": {
   "name": "llm_env",
   "language": "python",
   "display_name": "LLM_env"
  },
  "language_info": {
   "codemirror_mode": {
    "name": "ipython",
    "version": 2
   },
   "file_extension": ".py",
   "mimetype": "text/x-python",
   "name": "python",
   "nbconvert_exporter": "python",
   "pygments_lexer": "ipython2",
   "version": "2.7.6"
  }
 },
 "nbformat": 4,
 "nbformat_minor": 5
}
